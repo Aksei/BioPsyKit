{
 "cells": [
  {
   "cell_type": "markdown",
   "metadata": {},
   "source": [
    "# Sleep IMU Example"
   ]
  },
  {
   "cell_type": "markdown",
   "metadata": {},
   "source": [
    "<div class=\"alert alert-block alert-info\">\n",
    "This example notebook illustrates how to import IMU data collected during sleep and compute sleep endpoints.\n",
    "</div>"
   ]
  },
  {
   "cell_type": "code",
   "execution_count": null,
   "metadata": {},
   "outputs": [],
   "source": [
    "from pathlib import Path\n",
    "\n",
    "import pandas as pd\n",
    "import numpy as np\n",
    "\n",
    "from nilspodlib import Dataset\n",
    "\n",
    "import biopsykit as bp\n",
    "import biopsykit.signals as signals\n",
    "import biopsykit.signals.utils as su\n",
    "import biopsykit.sleep as sleep\n",
    "import biopsykit.signals.imu as imu\n",
    "\n",
    "import matplotlib.pyplot as plt\n",
    "import seaborn as sns\n",
    "\n",
    "%matplotlib widget\n",
    "%load_ext autoreload\n",
    "%autoreload 2"
   ]
  },
  {
   "cell_type": "code",
   "execution_count": null,
   "metadata": {},
   "outputs": [],
   "source": [
    "plt.close('all')\n",
    "sns.set_theme(style='ticks')"
   ]
  },
  {
   "cell_type": "markdown",
   "metadata": {},
   "source": [
    "## Load Example Dataset"
   ]
  },
  {
   "cell_type": "code",
   "execution_count": null,
   "metadata": {},
   "outputs": [],
   "source": [
    "data, fs = bp.example_data.get_sleep_imu_example()\n",
    "data.head()"
   ]
  },
  {
   "cell_type": "markdown",
   "metadata": {},
   "source": [
    "### Alternatively: Load your own dataset\n",
    "\n",
    "Replace the path by the path pointing to your IMU file"
   ]
  },
  {
   "cell_type": "code",
   "execution_count": null,
   "metadata": {},
   "outputs": [],
   "source": [
    "data, fs = bp.io.load_dataset_nilspod(\"../example_data/sleep_imu/sleep_imu_sample_01.bin\")\n",
    "data.head()"
   ]
  },
  {
   "cell_type": "markdown",
   "metadata": {},
   "source": [
    "## Plot IMU Data"
   ]
  },
  {
   "cell_type": "code",
   "execution_count": null,
   "metadata": {},
   "outputs": [],
   "source": [
    "fig, ax = bp.sleep.plotting.sleep_imu_plot(data, downsample_factor=5*fs, figsize=(10,5))"
   ]
  },
  {
   "cell_type": "markdown",
   "metadata": {},
   "source": [
    "## Compute Sleep Endpoints"
   ]
  },
  {
   "cell_type": "markdown",
   "metadata": {},
   "source": [
    "The Sleep Endpoint Prediction Pipeline (which is performed in `bp.sleep.sleep_endpoints.predict_pipeline()`) consists of the following steps:\n",
    "1. **Wear Detection**: Detects wear/non-wear blocks. Cut data to the major wear block (i.e., the time period with the longest wearing time)\n",
    "1. **Compute Acivity Samples**: Converts 3-axis accelerometer data into activity samples like they are delivered by Actigraph devices\n",
    "1. **Major Rest Period**: Estimates the major rest period (MRP) (i.e., an estimation about the time actually spent in bed)\n",
    "1. **Sleep/Wake Detection**: Classifies sleep/wake periods based on the \"Cole/Kripke\" Algorithm (Cole and Kripke, 1993)\n",
    "1. **Sleep Endpoint Computation**: Computes the following Sleep Endpoints based on sleep/wake periods and MRP:\n",
    "    1. `date`: Date of the sleep recording **Note**: For easier data handling, this field will return the *previous* day if the MRP started after 12 a.m. (and before 12 p.m.), i.e. the subject went to bed after midnight. Hence, one always night always spans *two days*.\n",
    "    1. `total_sleep_time`: Total sleep timie in the major rest period (in minutes)\n",
    "    1. `sleep_onset`: Time when *first sleep phase* started\n",
    "    1. `wake_onset`: Time when *last sleep phase* ended\n",
    "    1. `major_rest_period_start`: Start of MRP, i.e. beginning of the time spent in bed quietly\n",
    "    1. `major_rest_period_end`: End of MRP, i.e. end of the time spent in bed quietly\n",
    "    1. `sleep_onset_latency`: Time needed to fall asleep, i.e. difference between *sleep onset* and *MRP start*\n",
    "    1. `getup_latency`: Time needed to get out of bed, i.e. difference between *wake onset* and *MRP end*\n",
    "    1. `sleep_efficiency`: Ratio of the *total time asleep*, i.e. the time actually spent sleeping and the total time between *sleep onset* and *wake onset* in Percent\n",
    "    1. `wake_after_sleep_onset`: Duration of time awake after *sleep onset* (and before *wake onset*) (in minutes)\n",
    "    1. `sleep_bouts`: Bouts spent sleeping\n",
    "    1. `wake_bouts`: Bouts spent wake\n",
    "    1. `number_wake_bouts`: Number of wake bouts\n",
    "    \n",
    "The results are stored in a dictionary:"
   ]
  },
  {
   "cell_type": "code",
   "execution_count": null,
   "metadata": {},
   "outputs": [],
   "source": [
    "sleep_results = sleep.sleep_endpoints.predict_pipeline(data, sampling_rate=fs, sleep_wake_scale_factor=0.1)\n",
    "sleep_endpoints = sleep_results['sleep_endpoints']\n",
    "sleep_endpoints"
   ]
  },
  {
   "cell_type": "code",
   "execution_count": null,
   "metadata": {},
   "outputs": [],
   "source": [
    "data = sleep.sleep_endpoints.cut_to_wear_block(data, sleep_results['major_wear_block'])"
   ]
  },
  {
   "cell_type": "code",
   "execution_count": null,
   "metadata": {},
   "outputs": [],
   "source": [
    "df = sleep.sleep_endpoints.endpoints_as_df(sleep_endpoints, \"01\")\n",
    "df"
   ]
  },
  {
   "cell_type": "markdown",
   "metadata": {},
   "source": [
    "## Plot IMU Data with Sleep Endpoints"
   ]
  },
  {
   "cell_type": "code",
   "execution_count": null,
   "metadata": {},
   "outputs": [],
   "source": [
    "fig, ax = bp.sleep.plotting.sleep_imu_plot(data, sleep_endpoints=sleep_endpoints, downsample_factor=5*fs, figsize=(10,5))"
   ]
  },
  {
   "cell_type": "markdown",
   "metadata": {},
   "source": [
    "### Export Sleep Endpoints"
   ]
  },
  {
   "cell_type": "code",
   "execution_count": null,
   "metadata": {},
   "outputs": [],
   "source": [
    "sleep.io.save_sleep_endpoints(\"test.csv\", df)"
   ]
  },
  {
   "cell_type": "code",
   "execution_count": null,
   "metadata": {},
   "outputs": [],
   "source": []
  }
 ],
 "metadata": {
  "kernelspec": {
   "display_name": "Python 3",
   "language": "python",
   "name": "python3"
  },
  "language_info": {
   "codemirror_mode": {
    "name": "ipython",
    "version": 3
   },
   "file_extension": ".py",
   "mimetype": "text/x-python",
   "name": "python",
   "nbconvert_exporter": "python",
   "pygments_lexer": "ipython3",
   "version": "3.8.3"
  }
 },
 "nbformat": 4,
 "nbformat_minor": 4
}
