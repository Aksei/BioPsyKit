{
 "cells": [
  {
   "cell_type": "markdown",
   "metadata": {},
   "source": [
    "# StatsPipeline & Plotting Example"
   ]
  },
  {
   "cell_type": "markdown",
   "metadata": {},
   "source": [
    "This example shows how to set up a statistical analysis pipeline using `StatsPipeline`. \n",
    "\n",
    "Additionally, it demonstrates the new plotting functions of `BioPsyKit`, that wrap the `boxplot()` function of `seaborn` and offer additional, often used features, such as adding significance brackets:\n",
    "* `bp.plotting.feature_boxplot()` and `bp.plotting.multi_feature_boxplot()`\n",
    "* as well as the derived functions specialized for saliva features: `bp.protocols.plotting.saliva_feature_boxplot()` and `bp.protocols.plotting.saliva_multi_feature_boxplot()`."
   ]
  },
  {
   "cell_type": "code",
   "execution_count": null,
   "metadata": {},
   "outputs": [],
   "source": [
    "from pathlib import Path\n",
    "\n",
    "import pandas as pd\n",
    "import numpy as np\n",
    "\n",
    "import biopsykit as bp\n",
    "from biopsykit.utils.dataframe_handling import multi_xs\n",
    "from biopsykit.stats import StatsPipeline\n",
    "\n",
    "import pingouin as pg\n",
    "\n",
    "import matplotlib.pyplot as plt\n",
    "import seaborn as sns\n",
    "\n",
    "%matplotlib widget\n",
    "%load_ext autoreload\n",
    "%autoreload 2"
   ]
  },
  {
   "cell_type": "code",
   "execution_count": null,
   "metadata": {},
   "outputs": [],
   "source": [
    "pg.options['round'] = 3\n",
    "\n",
    "sns.set(style='ticks', context='talk')\n",
    "plt.rcParams['figure.figsize'] = (10,5)\n",
    "plt.close('all')\n",
    "\n",
    "palette = bp.colors.fau_palette\n",
    "sns.set_palette(palette)\n",
    "palette"
   ]
  },
  {
   "cell_type": "code",
   "execution_count": null,
   "metadata": {},
   "outputs": [],
   "source": [
    "data_path = Path(\"../example_data\")"
   ]
  },
  {
   "cell_type": "markdown",
   "metadata": {},
   "source": [
    "## Data Import"
   ]
  },
  {
   "cell_type": "code",
   "execution_count": null,
   "metadata": {},
   "outputs": [],
   "source": [
    "sample_times = [-30, -1, 30, 40, 50, 60, 70]\n",
    "\n",
    "condition_order = [\"Control\", \"Intervention\"]"
   ]
  },
  {
   "cell_type": "markdown",
   "metadata": {},
   "source": [
    "### Raw Cortisol"
   ]
  },
  {
   "cell_type": "code",
   "execution_count": null,
   "metadata": {},
   "outputs": [],
   "source": [
    "cort_samples = pd.read_csv(data_path.joinpath(\"cortisol_sample_stats.csv\"))\n",
    "cort_samples = cort_samples.set_index([\"subject\", \"condition\", \"sample\"])\n",
    "cort_samples.head()"
   ]
  },
  {
   "cell_type": "code",
   "execution_count": null,
   "metadata": {},
   "outputs": [],
   "source": [
    "fig, ax = plt.subplots(figsize=(8,4))\n",
    "# specialized function for plotting saliva data\n",
    "bp.protocols.plotting.saliva_plot(\n",
    "    data=cort_samples, \n",
    "    saliva_type=\"cortisol\", \n",
    "    sample_times=sample_times, \n",
    "    test_times=[0, 30], \n",
    "    sample_times_absolute=True,\n",
    "    ax=ax\n",
    ")"
   ]
  },
  {
   "cell_type": "markdown",
   "metadata": {},
   "source": [
    "### Cortsol Features"
   ]
  },
  {
   "cell_type": "code",
   "execution_count": null,
   "metadata": {},
   "outputs": [],
   "source": [
    "auc = bp.saliva.auc(cort_samples, saliva_type=\"cortisol\", sample_times=sample_times, compute_auc_post=True, remove_s0=True)\n",
    "max_inc = bp.saliva.max_increase(cort_samples, saliva_type=\"cortisol\", remove_s0=True)\n",
    "slope = bp.saliva.slope(cort_samples, sample_idx=[1, 4], sample_times=sample_times, saliva_type=\"cortisol\")\n",
    "\n",
    "cort_features = pd.concat([auc, max_inc, slope], axis=1)\n",
    "cort_features = bp.saliva.utils.saliva_feature_wide_to_long(cort_features, saliva_type=\"cortisol\")\n",
    "cort_features.head()"
   ]
  },
  {
   "cell_type": "markdown",
   "metadata": {},
   "source": [
    "## Mixed ANOVA"
   ]
  },
  {
   "cell_type": "code",
   "execution_count": null,
   "metadata": {},
   "outputs": [],
   "source": [
    "# construct some example to demonstrate analysis\n",
    "data_example = multi_xs(cort_samples, [2, 3], level=\"sample\")"
   ]
  },
  {
   "cell_type": "code",
   "execution_count": null,
   "metadata": {},
   "outputs": [],
   "source": [
    "pipeline = StatsPipeline(\n",
    "    steps=[\n",
    "        ('prep', 'normality'),\n",
    "        ('prep', 'equal_var'),\n",
    "        ('test', 'mixed_anova'),\n",
    "        ('posthoc', 'pairwise_ttests')\n",
    "    ],\n",
    "    params={\n",
    "        'dv': 'cortisol',\n",
    "        'between': \"condition\",\n",
    "        'within': 'sample',\n",
    "        'subject': 'subject',\n",
    "        'padjust': 'bonf' # specify multicorrection method to be applied on the posthoc tests\n",
    "    }\n",
    ")\n",
    "\n",
    "pipeline.apply(data_example);"
   ]
  },
  {
   "cell_type": "markdown",
   "metadata": {},
   "source": [
    "### Display Results"
   ]
  },
  {
   "cell_type": "code",
   "execution_count": null,
   "metadata": {},
   "outputs": [],
   "source": [
    "# display all results\n",
    "pipeline.display_results()\n",
    "# only significant results\n",
    "# pipeline.display_results(sig_only=True)\n",
    "# only significant results from the \"posthoc\" category (results from other categories will all be displayed)\n",
    "# pipeline.display_results(sig_only=\"posthoc\")"
   ]
  },
  {
   "cell_type": "markdown",
   "metadata": {},
   "source": [
    "### Further functions of ``StatsPipeline``"
   ]
  },
  {
   "cell_type": "code",
   "execution_count": null,
   "metadata": {},
   "outputs": [],
   "source": [
    "# analysis categories and their respective analysis steps\n",
    "print(pipeline.category_steps)\n",
    "# dictionary with analysis results per step\n",
    "results = pipeline.results\n",
    "# get results from normality check\n",
    "display(results[\"normality\"])\n",
    "# return only results from one dategory\n",
    "display(pipeline.results_cat(\"posthoc\"))\n",
    "# export the whole pipeline as Excel sheet\n",
    "# pipeline.export_statistics()"
   ]
  },
  {
   "cell_type": "markdown",
   "metadata": {},
   "source": [
    "## Repeated-Measurements ANOVA"
   ]
  },
  {
   "cell_type": "code",
   "execution_count": null,
   "metadata": {},
   "outputs": [],
   "source": [
    "data_slice = data_example.xs(\"Control\", level=\"condition\")\n",
    "\n",
    "pipeline = StatsPipeline(\n",
    "    steps=[\n",
    "        ('prep', 'normality'),\n",
    "        ('prep', 'equal_var'),\n",
    "        ('test', 'rm_anova'),\n",
    "        ('posthoc', 'pairwise_ttests')\n",
    "    ],\n",
    "    params={\n",
    "        'dv': 'cortisol',\n",
    "        'within': 'sample',\n",
    "        'subject': 'subject'\n",
    "    }\n",
    ")\n",
    "\n",
    "pipeline.apply(data_slice)\n",
    "pipeline.display_results()"
   ]
  },
  {
   "cell_type": "markdown",
   "metadata": {},
   "source": [
    "## T-Tests"
   ]
  },
  {
   "cell_type": "code",
   "execution_count": null,
   "metadata": {},
   "outputs": [],
   "source": [
    "cort_features.head()"
   ]
  },
  {
   "cell_type": "markdown",
   "metadata": {},
   "source": [
    "`cort_features` contains multiple features that need to be analyzed individually. The analysis pipeline can be applied to each feature individually by specifying a column to group the dataframe by (`groupby` parameter). The result dataframes will then contain the `groupby` column as index level."
   ]
  },
  {
   "cell_type": "code",
   "execution_count": null,
   "metadata": {},
   "outputs": [],
   "source": [
    "pipeline = StatsPipeline(\n",
    "    steps=[\n",
    "        (\"prep\", \"normality\"),\n",
    "        (\"prep\", \"equal_var\"),\n",
    "        (\"test\", \"pairwise_ttests\")\n",
    "    ],\n",
    "    params={\n",
    "        \"dv\": \"cortisol\",\n",
    "        \"groupby\": \"saliva_feature\",\n",
    "        \"between\": \"condition\"\n",
    "    }\n",
    ")\n",
    "\n",
    "pipeline.apply(cort_features)\n",
    "pipeline.display_results()"
   ]
  },
  {
   "cell_type": "markdown",
   "metadata": {},
   "source": [
    "## Get Significance Brackets from `StatsPipeline`"
   ]
  },
  {
   "cell_type": "markdown",
   "metadata": {},
   "source": [
    "`StatsPipeline.sig_brackets()` returns the significance brackets and the corresponding p-values to add to the plotting functions of `BioPsyKit`.\n",
    "\n",
    "The method takes the following parameters (from the documentation):\n",
    "* `stats_category_or_data`: either a string of the pipeline category to use for generating significance brackets or a dataframe with statistical if significance brackets should be generated from the dataframe\n",
    "* `stats_type`: type of analysis performed (\"between\", \"within\", \"interaction\"). Needed to extract the correct information from the analysis dataframe\n",
    "* `plot_type`: type of plot for which significance brackets are generated: \"multi\" if boxplots are grouped (by a ``hue`` variable), \"single\" (the default) otherwise\n",
    "* `features`: feature(s) displayed in the boxplot. The resulting significance brackets will be filtered accordingly to only contain features present in the boxplot. It can have the following formats:\n",
    "    * ``str``: only one feature is plotted in the boxplot  \n",
    "      => returns significance brackets of only one feature\n",
    "    * ``list``: multiple features are combined into *one* `Axes` object (i.e., no subplots)  \n",
    "      => returns significance brackets of multiple features\n",
    "    * ``dict``: if boxplots of features are organized in subplots then `features` needs to dictionary with the feature (or list of features) per subplot (``subplots`` is ``True``)  \n",
    "      => returns dictionary with significance brackets per subplot\n",
    "* `x`: name of column used as `x` axis in the boxplot. Only required if `plot_type` is \"multi\".\n",
    "     "
   ]
  },
  {
   "cell_type": "markdown",
   "metadata": {},
   "source": [
    "Data in a \"single plot\" (e.g., only to display `max_inc` feature) => filter by feature"
   ]
  },
  {
   "cell_type": "code",
   "execution_count": null,
   "metadata": {},
   "outputs": [],
   "source": [
    "box_pairs, pvalues = pipeline.sig_brackets(\"test\", \"between\", \"single\", features=\"max_inc\")\n",
    "print(box_pairs)"
   ]
  },
  {
   "cell_type": "markdown",
   "metadata": {},
   "source": [
    "Data in a \"multi plot\" (`x` variable is \"saliva_feature\", `hue` is the \"between\" variable)"
   ]
  },
  {
   "cell_type": "code",
   "execution_count": null,
   "metadata": {},
   "outputs": [],
   "source": [
    "box_pairs, pvalues = pipeline.sig_brackets(\"test\", \"between\", \"multi\", x=\"saliva_feature\")\n",
    "print(box_pairs)"
   ]
  },
  {
   "cell_type": "markdown",
   "metadata": {},
   "source": [
    "Data in a \"multi plot\" (`x` variable is \"saliva_feature\", `hue` is the \"between\" variable), but organized in subplots"
   ]
  },
  {
   "cell_type": "code",
   "execution_count": null,
   "metadata": {},
   "outputs": [],
   "source": [
    "box_pairs, pvalues = pipeline.sig_brackets(\n",
    "    \"test\", \n",
    "    \"between\", \n",
    "    \"multi\", \n",
    "    x=\"saliva_feature\", \n",
    "    subplots=True\n",
    ")\n",
    "print(box_pairs)"
   ]
  },
  {
   "cell_type": "markdown",
   "metadata": {},
   "source": [
    "Data in a \"multi plot\" (`x` variable is \"saliva_feature\", `hue` is the \"between\" variable), but organized in subplots. The features are now structured in a custom way (e.g., \"max_inc\" and \"slope\" should be placed into the same subplot)."
   ]
  },
  {
   "cell_type": "code",
   "execution_count": null,
   "metadata": {},
   "outputs": [],
   "source": [
    "box_pairs, pvalues = pipeline.sig_brackets(\n",
    "    \"test\", \n",
    "    \"between\", \n",
    "    \"multi\", \n",
    "    x=\"saliva_feature\", \n",
    "    features={\"auc\": [\"auc_i\", \"auc_g\"], \"inc\": [\"max_inc\", \"slope14\"]}, \n",
    "    subplots=True\n",
    ")\n",
    "print(box_pairs)"
   ]
  },
  {
   "cell_type": "markdown",
   "metadata": {},
   "source": [
    "## Plotting"
   ]
  },
  {
   "cell_type": "markdown",
   "metadata": {},
   "source": [
    "### Plot Single Feature"
   ]
  },
  {
   "cell_type": "markdown",
   "metadata": {},
   "source": [
    "This example shows how to plot a single feature in a boxplot using `bp.plotting.feature_boxplot`. The two conditions are plotted along the `x` axis."
   ]
  },
  {
   "cell_type": "code",
   "execution_count": null,
   "metadata": {},
   "outputs": [],
   "source": [
    "features = \"max_inc\"\n",
    "data_plot = multi_xs(cort_features, features, level=\"saliva_feature\")\n",
    "\n",
    "box_pairs, pvalues = pipeline.sig_brackets(\"test\", stats_type=\"between\", features=features, plot_type=\"single\")\n",
    "\n",
    "fig, ax = plt.subplots()\n",
    "bp.plotting.feature_boxplot(\n",
    "    data=data_plot, \n",
    "    x=\"condition\", \n",
    "    y=\"cortisol\", \n",
    "    stats_kwargs={\n",
    "        'box_pairs': box_pairs, \n",
    "        'pvalues': pvalues\n",
    "    }, \n",
    "    ax=ax\n",
    ")\n",
    "fig.tight_layout()"
   ]
  },
  {
   "cell_type": "markdown",
   "metadata": {},
   "source": [
    "### Plot Multiple Features"
   ]
  },
  {
   "cell_type": "markdown",
   "metadata": {},
   "source": [
    "This example is the same as the one in the **Plot Single Feature** example above, but this time, the (single) feature is plotted along the `x` axis and the two groups are separated by the `hue` parameter. This makes it `plot_type` \"multi\" and thus requires to specify the `x` parameter in `StatsPipeline.sig_brackets()`."
   ]
  },
  {
   "cell_type": "code",
   "execution_count": null,
   "metadata": {},
   "outputs": [],
   "source": [
    "features = \"max_inc\"\n",
    "data_plot = multi_xs(cort_features, features, level=\"saliva_feature\")\n",
    "\n",
    "box_pairs, pvalues = pipeline.sig_brackets(\"test\", stats_type=\"between\", plot_type=\"multi\", features=features, x=\"saliva_feature\")\n",
    "\n",
    "fig, ax = plt.subplots()\n",
    "bp.plotting.feature_boxplot(\n",
    "    data=data_plot, \n",
    "    x=\"saliva_feature\", \n",
    "    y=\"cortisol\", \n",
    "    hue=\"condition\",\n",
    "    stats_kwargs={\n",
    "        'box_pairs': box_pairs, \n",
    "        'pvalues': pvalues\n",
    "    }, \n",
    "    ax=ax\n",
    ")\n",
    "fig.tight_layout()"
   ]
  },
  {
   "cell_type": "markdown",
   "metadata": {},
   "source": [
    "This example shows how to use `bp.plotting.feature_boxplot` to plot actually multiple features along the `x` axis with the `hue` variable separating the conditions.\n",
    "\n",
    "In this example, however, no feature has a statistically significant difference."
   ]
  },
  {
   "cell_type": "code",
   "execution_count": null,
   "metadata": {},
   "outputs": [],
   "source": [
    "features = [\"auc_g\", \"auc_i\"]\n",
    "data_plot = multi_xs(cort_features, features, level=\"saliva_feature\")\n",
    "\n",
    "box_pairs, pvalues = pipeline.sig_brackets(\"test\", stats_type=\"between\", features=features, plot_type=\"multi\", x=\"saliva_feature\")\n",
    "\n",
    "fig, ax = plt.subplots()\n",
    "bp.plotting.feature_boxplot(\n",
    "    data=data_plot, \n",
    "    x=\"saliva_feature\", \n",
    "    y=\"cortisol\", \n",
    "    hue=\"condition\",\n",
    "    stats_kwargs={\n",
    "        'box_pairs': box_pairs, \n",
    "        'pvalues': pvalues\n",
    "    }, \n",
    "    ax=ax\n",
    ")\n",
    "fig.tight_layout()"
   ]
  },
  {
   "cell_type": "markdown",
   "metadata": {},
   "source": [
    "### Plot Multiple Features in Subplots"
   ]
  },
  {
   "cell_type": "markdown",
   "metadata": {},
   "source": [
    "This example shows how to use `bp.plotting.multi_feature_boxplot()` to plot multiple features as boxplots, but into single subplots. The function allows to group certain features together into the same subplot."
   ]
  },
  {
   "cell_type": "code",
   "execution_count": null,
   "metadata": {},
   "outputs": [],
   "source": [
    "features = {\"auc\": [\"auc_g\", \"auc_i\"], \"max_inc\": \"max_inc\", \"slope14\": \"slope14\"}\n",
    "\n",
    "box_pairs, pvalues = pipeline.sig_brackets(\"test\", stats_type=\"between\", features=features, plot_type=\"multi\", x=\"saliva_feature\", subplots=True)\n",
    "\n",
    "data_plot = cort_features.copy()\n",
    "\n",
    "bp.plotting.multi_feature_boxplot(\n",
    "    data=data_plot, \n",
    "    x=\"saliva_feature\", \n",
    "    y=\"cortisol\", \n",
    "    hue=\"condition\",\n",
    "    group=\"saliva_feature\",\n",
    "    features=features,\n",
    "    stats_kwargs={\n",
    "        'box_pairs': box_pairs, \n",
    "        'pvalues': pvalues\n",
    "    }\n",
    ")\n",
    "fig.tight_layout()"
   ]
  },
  {
   "cell_type": "markdown",
   "metadata": {},
   "source": [
    "### Use Specialized `saliva_feature_plot` functions"
   ]
  },
  {
   "cell_type": "markdown",
   "metadata": {},
   "source": [
    "In addition to the \"general-purpose\" plotting functions `BioPsyKit` also offers specialized plotting functions for saliva features since plotting saliva data is a commonly performed task. These functions already offer a better styling of axis and labels."
   ]
  },
  {
   "cell_type": "code",
   "execution_count": null,
   "metadata": {},
   "outputs": [],
   "source": [
    "# rerun the pipeline\n",
    "pipeline = StatsPipeline(\n",
    "    steps=[\n",
    "        (\"prep\", \"normality\"),\n",
    "        (\"prep\", \"equal_var\"),\n",
    "        (\"test\", \"pairwise_ttests\")\n",
    "    ],\n",
    "    params={\n",
    "        \"dv\": \"cortisol\",\n",
    "        \"groupby\": \"saliva_feature\",\n",
    "        \"between\": \"condition\"\n",
    "    }\n",
    ")\n",
    "\n",
    "pipeline.apply(cort_features)\n",
    "pipeline.display_results()"
   ]
  },
  {
   "cell_type": "markdown",
   "metadata": {},
   "source": [
    "#### Plot Single Feature"
   ]
  },
  {
   "cell_type": "code",
   "execution_count": null,
   "metadata": {},
   "outputs": [],
   "source": [
    "features = \"max_inc\"\n",
    "data_plot = multi_xs(cort_features, features, level=\"saliva_feature\")\n",
    "\n",
    "box_pairs, pvalues = pipeline.sig_brackets(\"test\", stats_type=\"between\", features=features, plot_type=\"single\")\n",
    "\n",
    "fig, ax = plt.subplots()\n",
    "bp.protocols.plotting.saliva_feature_boxplot(\n",
    "    data=data_plot, \n",
    "    x=\"condition\", \n",
    "    saliva_type=\"cortisol\", \n",
    "    feature=features,\n",
    "    stats_kwargs={\n",
    "        'box_pairs': box_pairs, \n",
    "        'pvalues': pvalues\n",
    "    }, \n",
    "    ax=ax\n",
    ")\n",
    "fig.tight_layout()"
   ]
  },
  {
   "cell_type": "markdown",
   "metadata": {},
   "source": [
    "#### Plot Multiple Features"
   ]
  },
  {
   "cell_type": "code",
   "execution_count": null,
   "metadata": {},
   "outputs": [],
   "source": [
    "features = [\"auc_g\", \"auc_i\"]\n",
    "data_plot = multi_xs(cort_features, features, level=\"saliva_feature\")\n",
    "\n",
    "box_pairs, pvalues = pipeline.sig_brackets(\"test\", stats_type=\"between\", features=features, plot_type=\"multi\", x=\"saliva_feature\")\n",
    "\n",
    "fig, ax = plt.subplots()\n",
    "bp.protocols.plotting.saliva_feature_boxplot(\n",
    "    data=data_plot, \n",
    "    x=\"saliva_feature\",\n",
    "    saliva_type=\"cortisol\", \n",
    "    hue=\"condition\",\n",
    "    feature=features,\n",
    "    stats_kwargs={\n",
    "        'box_pairs': box_pairs, \n",
    "        'pvalues': pvalues\n",
    "    }, \n",
    "    ax=ax\n",
    ")\n",
    "fig.tight_layout()"
   ]
  },
  {
   "cell_type": "markdown",
   "metadata": {},
   "source": [
    "#### Plot Multiple Features in Subplots"
   ]
  },
  {
   "cell_type": "code",
   "execution_count": null,
   "metadata": {},
   "outputs": [],
   "source": [
    "features = {\"auc\": [\"auc_g\", \"auc_i\"], \"max_inc\": \"max_inc\", \"slope14\": \"slope14\"}\n",
    "\n",
    "box_pairs, pvalues = pipeline.sig_brackets(\"test\", stats_type=\"between\", features=features, plot_type=\"multi\", x=\"saliva_feature\", subplots=True)\n",
    "\n",
    "data_plot = cort_features.copy()\n",
    "\n",
    "bp.protocols.plotting.saliva_multi_feature_boxplot(\n",
    "    data=data_plot, \n",
    "    saliva_type=\"cortisol\", \n",
    "    features=features,\n",
    "    hue=\"condition\",\n",
    "    stats_kwargs={\n",
    "        'box_pairs': box_pairs, \n",
    "        'pvalues': pvalues\n",
    "    }\n",
    ")\n",
    "fig.tight_layout()"
   ]
  },
  {
   "cell_type": "code",
   "execution_count": null,
   "metadata": {},
   "outputs": [],
   "source": []
  }
 ],
 "metadata": {
  "kernelspec": {
   "display_name": "Python 3",
   "language": "python",
   "name": "python3"
  },
  "language_info": {
   "codemirror_mode": {
    "name": "ipython",
    "version": 3
   },
   "file_extension": ".py",
   "mimetype": "text/x-python",
   "name": "python",
   "nbconvert_exporter": "python",
   "pygments_lexer": "ipython3",
   "version": "3.8.3"
  },
  "toc-showtags": false
 },
 "nbformat": 4,
 "nbformat_minor": 4
}
