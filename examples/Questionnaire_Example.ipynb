{
 "cells": [
  {
   "cell_type": "markdown",
   "metadata": {},
   "source": [
    "# Questionnaire Example"
   ]
  },
  {
   "cell_type": "markdown",
   "metadata": {},
   "source": [
    "<div class=\"alert alert-block alert-info\">\n",
    "This example notebook illustrates how to process questionnare data.\n",
    "</div>"
   ]
  },
  {
   "cell_type": "markdown",
   "metadata": {},
   "source": [
    "## Setup and Helper Functions"
   ]
  },
  {
   "cell_type": "code",
   "execution_count": null,
   "metadata": {},
   "outputs": [],
   "source": [
    "from pathlib import Path\n",
    "\n",
    "import re\n",
    "\n",
    "import pandas as pd\n",
    "import numpy as np\n",
    "\n",
    "import biopsykit as bp\n",
    "import pingouin as pg\n",
    "\n",
    "import matplotlib.pyplot as plt\n",
    "import seaborn as sns\n",
    "\n",
    "%matplotlib widget\n",
    "%load_ext autoreload\n",
    "%autoreload 2"
   ]
  },
  {
   "cell_type": "code",
   "execution_count": null,
   "metadata": {},
   "outputs": [],
   "source": [
    "plt.close(\"all\")\n",
    "\n",
    "palette = bp.colors.fau_palette\n",
    "sns.set_theme(context=\"notebook\", style=\"ticks\", palette=palette)\n",
    "\n",
    "plt.rcParams['figure.figsize'] = (8,4)\n",
    "plt.rcParams['pdf.fonttype'] = 42\n",
    "plt.rcParams['mathtext.default'] = \"regular\"\n",
    "\n",
    "palette"
   ]
  },
  {
   "cell_type": "markdown",
   "metadata": {},
   "source": [
    "## Load Questionnaire Data"
   ]
  },
  {
   "cell_type": "code",
   "execution_count": null,
   "metadata": {},
   "outputs": [],
   "source": [
    "data = pd.read_csv(\"../example_data/questionnaire_sample.csv\", index_col='subject')\n",
    "data.head()"
   ]
  },
  {
   "cell_type": "markdown",
   "metadata": {},
   "source": [
    "## Example 1: Compute PSS"
   ]
  },
  {
   "cell_type": "markdown",
   "metadata": {},
   "source": [
    "**Slice Dataframe and Select Columns**  \n",
    "(here: all items belonging to *PSS*)"
   ]
  },
  {
   "cell_type": "code",
   "execution_count": null,
   "metadata": {},
   "outputs": [],
   "source": [
    "data_pss, columns_pss = bp.questionnaires.utils.find_cols(data, starts_with=\"PSS\")\n",
    "data_pss.head()"
   ]
  },
  {
   "cell_type": "code",
   "execution_count": null,
   "metadata": {},
   "outputs": [],
   "source": [
    "# Option 1: pass the sliced dataframe, containing only columns of the questionnaire\n",
    "pss = bp.questionnaires.pss(data_pss)\n",
    "\n",
    "# Option 2: pass the whole dataframe + a list of columns containing the questionnaire column names \n",
    "# (better suited for loops, more on that later)\n",
    "pss = bp.questionnaires.pss(data, columns=columns_pss)"
   ]
  },
  {
   "cell_type": "markdown",
   "metadata": {},
   "source": [
    "What we notice is that the `pss` function in `BioPsyKit` throws an error. This is because the *PSS* items in this dataset are coded from `1` to `5`, the *PSS* score, however, is computed from items that are coded from `0` to `4`. Hence, we need to convert the scores into the correct scale first by subtracting all values by `-1` using the function `biopsykit.questionnaires.utils.convert_scale()`:"
   ]
  },
  {
   "cell_type": "markdown",
   "metadata": {},
   "source": [
    "**Convert Scale**"
   ]
  },
  {
   "cell_type": "code",
   "execution_count": null,
   "metadata": {},
   "outputs": [],
   "source": [
    "# For Option 1: convert the sliced PSS dataframe\n",
    "data_pss_conv = bp.questionnaires.utils.convert_scale(data_pss, offset=-1)\n",
    "data_pss_conv.head()"
   ]
  },
  {
   "cell_type": "code",
   "execution_count": null,
   "metadata": {},
   "outputs": [],
   "source": [
    "# For Option 2: convert only the PSS columns, leave the other columns\n",
    "data_conv = bp.questionnaires.utils.convert_scale(data, cols=columns_pss, offset=-1)\n",
    "data_conv.head()"
   ]
  },
  {
   "cell_type": "markdown",
   "metadata": {},
   "source": [
    "Now the scores are in the correct range and we can compute the *PSS* score:"
   ]
  },
  {
   "cell_type": "code",
   "execution_count": null,
   "metadata": {},
   "outputs": [],
   "source": [
    "# Option 1: the sliced PSS dataframe\n",
    "pss = bp.questionnaires.pss(data_pss_conv)\n",
    "pss.head()"
   ]
  },
  {
   "cell_type": "code",
   "execution_count": null,
   "metadata": {},
   "outputs": [],
   "source": [
    "# Option 2: the whole dataframe + PSS columns\n",
    "pss = bp.questionnaires.pss(data_conv, columns=columns_pss)\n",
    "pss.head()"
   ]
  },
  {
   "cell_type": "markdown",
   "metadata": {},
   "source": [
    "## Example 2: Compute PANAS"
   ]
  },
  {
   "cell_type": "markdown",
   "metadata": {},
   "source": [
    "In our Study, PANAS was assessed *pre* and *post* Stress."
   ]
  },
  {
   "cell_type": "code",
   "execution_count": null,
   "metadata": {},
   "outputs": [],
   "source": [
    "data_panas_pre, columns_panas_pre = bp.questionnaires.utils.find_cols(data, starts_with=\"PANAS\", ends_with=\"Pre\")\n",
    "data_panas_post, columns_panas_post = bp.questionnaires.utils.find_cols(data, starts_with=\"PANAS\", ends_with=\"Post\")"
   ]
  },
  {
   "cell_type": "code",
   "execution_count": null,
   "metadata": {},
   "outputs": [],
   "source": [
    "panas_pre = bp.questionnaires.panas(data_panas_pre)\n",
    "panas_pre.head()"
   ]
  },
  {
   "cell_type": "code",
   "execution_count": null,
   "metadata": {},
   "outputs": [],
   "source": [
    "panas_post = bp.questionnaires.panas(data_panas_post)\n",
    "panas_post.head()"
   ]
  },
  {
   "cell_type": "markdown",
   "metadata": {},
   "source": [
    "## Compute Multiple Scores at Once"
   ]
  },
  {
   "cell_type": "markdown",
   "metadata": {},
   "source": [
    "Build a dictionary where each key corresponds to the questionnaire score to be computed and each value corresponds to the columns of the questionnaire. If some scores were assessed repeatedly (e.g. PANAS was assessed *pre* and *post*) separate the suffix from the computation by a `-` (e.g. `panas-pre` and `panas-post`)."
   ]
  },
  {
   "cell_type": "code",
   "execution_count": null,
   "metadata": {},
   "outputs": [],
   "source": [
    "from biopsykit.questionnaires.utils import find_cols\n",
    "dict_scores = {\n",
    "    'pss': find_cols(data, starts_with='PSS')[1],\n",
    "    'pasa': find_cols(data, starts_with='PASA')[1],\n",
    "    'panas-pre': find_cols(data, starts_with='PANAS', ends_with='Pre')[1],\n",
    "    'panas-post': find_cols(data, starts_with='PANAS', ends_with='Post')[1],\n",
    "}"
   ]
  },
  {
   "cell_type": "code",
   "execution_count": null,
   "metadata": {},
   "outputs": [],
   "source": [
    "# Convert scale\n",
    "data_conv = bp.questionnaires.utils.convert_scale(data, cols=dict_scores['pss'], offset=-1)"
   ]
  },
  {
   "cell_type": "code",
   "execution_count": null,
   "metadata": {},
   "outputs": [],
   "source": [
    "# Compute all scores and store in result dataframe\n",
    "data_scores = bp.questionnaires.utils.compute_scores(data_conv, dict_scores)\n",
    "data_scores.head()"
   ]
  },
  {
   "cell_type": "markdown",
   "metadata": {},
   "source": [
    "## Convert Scores into Long Format"
   ]
  },
  {
   "cell_type": "code",
   "execution_count": null,
   "metadata": {},
   "outputs": [],
   "source": [
    "data_scores.head()"
   ]
  },
  {
   "cell_type": "markdown",
   "metadata": {},
   "source": [
    "Questionnaires that only have different *subscales* => Create one new index level `subscale`:"
   ]
  },
  {
   "cell_type": "code",
   "execution_count": null,
   "metadata": {},
   "outputs": [],
   "source": [
    "print(list(data_scores.filter(like='PASA').columns))"
   ]
  },
  {
   "cell_type": "code",
   "execution_count": null,
   "metadata": {},
   "outputs": [],
   "source": [
    "pasa = bp.questionnaires.utils.wide_to_long(data_scores, quest_name='PASA', levels=['subscale'])\n",
    "pasa.head()"
   ]
  },
  {
   "cell_type": "markdown",
   "metadata": {},
   "source": [
    "Questionnaires that have different *subscales* and different *assessment times* => Create two new index levels `subscale` and `time`"
   ]
  },
  {
   "cell_type": "code",
   "execution_count": null,
   "metadata": {},
   "outputs": [],
   "source": [
    "print(list(data_scores.filter(like='PANAS').columns))"
   ]
  },
  {
   "cell_type": "markdown",
   "metadata": {},
   "source": [
    "`bp.questionnaires.questionnaire_wide_to_long()` converts the data into the wide format recursively from the *first* level (here: `subscale`) to the *last* level (here: `time`):"
   ]
  },
  {
   "cell_type": "code",
   "execution_count": null,
   "metadata": {},
   "outputs": [],
   "source": [
    "panas = bp.questionnaires.utils.wide_to_long(data_scores, quest_name='PANAS', levels=['subscale', 'time'])\n",
    "panas.head()"
   ]
  },
  {
   "cell_type": "markdown",
   "metadata": {},
   "source": [
    "## Plotting"
   ]
  },
  {
   "cell_type": "markdown",
   "metadata": {},
   "source": [
    "### In one Plot"
   ]
  },
  {
   "cell_type": "code",
   "execution_count": null,
   "metadata": {},
   "outputs": [],
   "source": [
    "panas"
   ]
  },
  {
   "cell_type": "code",
   "execution_count": null,
   "metadata": {},
   "outputs": [],
   "source": [
    "fig, ax = plt.subplots()\n",
    "bp.plotting.feature_boxplot(data=panas, x=\"subscale\", y=\"PANAS\", hue=\"time\", hue_order=[\"pre\", \"post\"], ax=ax)\n",
    "fig.tight_layout()"
   ]
  },
  {
   "cell_type": "markdown",
   "metadata": {},
   "source": [
    "### In Subplots"
   ]
  },
  {
   "cell_type": "markdown",
   "metadata": {},
   "source": [
    "#### Regular"
   ]
  },
  {
   "cell_type": "code",
   "execution_count": null,
   "metadata": {},
   "outputs": [],
   "source": [
    "fig, axs = plt.subplots(ncols=3)\n",
    "bp.plotting.multi_feature_boxplot(\n",
    "    data=panas, \n",
    "    x=\"time\", \n",
    "    y=\"PANAS\", \n",
    "    features=[\"NegativeAffect\", \"PositiveAffect\", \"Total\"], \n",
    "    group=\"subscale\", \n",
    "    order=[\"pre\", \"post\"], \n",
    "    ax=axs\n",
    ")\n",
    "fig.tight_layout()"
   ]
  },
  {
   "cell_type": "markdown",
   "metadata": {},
   "source": [
    "#### With Significance Brackets\n",
    "\n",
    "**Note**: See `StatsPipeline_Plotting_Example.ipynb` for further information!"
   ]
  },
  {
   "cell_type": "code",
   "execution_count": null,
   "metadata": {},
   "outputs": [],
   "source": [
    "pipeline = bp.stats.StatsPipeline(\n",
    "    steps=[\n",
    "        (\"prep\", \"normality\"),\n",
    "        (\"prep\", \"equal_var\"),\n",
    "        (\"test\", \"pairwise_ttests\")\n",
    "    ],\n",
    "    params={\n",
    "        \"dv\": \"PANAS\",\n",
    "        \"groupby\": \"subscale\",\n",
    "        \"subject\": \"subject\",\n",
    "        \"within\": \"time\"\n",
    "    }\n",
    ")\n",
    "\n",
    "pipeline.apply(panas);"
   ]
  },
  {
   "cell_type": "code",
   "execution_count": null,
   "metadata": {},
   "outputs": [],
   "source": [
    "fig, axs = plt.subplots(ncols=3)\n",
    "\n",
    "features = [\"NegativeAffect\", \"PositiveAffect\", \"Total\"]\n",
    "\n",
    "box_pairs, pvalues = pipeline.sig_brackets(\n",
    "    \"test\", \n",
    "    stats_type=\"within\", \n",
    "    plot_type=\"single\", \n",
    "    x=\"time\", \n",
    "    features=features, \n",
    "    subplots=True\n",
    ")\n",
    "\n",
    "bp.plotting.multi_feature_boxplot(\n",
    "    data=panas, \n",
    "    x=\"time\", \n",
    "    y=\"PANAS\", \n",
    "    features=features, \n",
    "    group=\"subscale\", \n",
    "    order=[\"pre\", \"post\"], \n",
    "    stats_kwargs={\"box_pairs\": box_pairs, \"pvalues\": pvalues},\n",
    "    ax=axs\n",
    ")\n",
    "for ax, feature in zip(axs, features):\n",
    "    ax.set_title(feature)\n",
    "\n",
    "fig.tight_layout()"
   ]
  },
  {
   "cell_type": "code",
   "execution_count": null,
   "metadata": {},
   "outputs": [],
   "source": []
  }
 ],
 "metadata": {
  "kernelspec": {
   "display_name": "biopsykit",
   "language": "python",
   "name": "biopsykit"
  },
  "language_info": {
   "codemirror_mode": {
    "name": "ipython",
    "version": 3
   },
   "file_extension": ".py",
   "mimetype": "text/x-python",
   "name": "python",
   "nbconvert_exporter": "python",
   "pygments_lexer": "ipython3",
   "version": "3.8.3"
  }
 },
 "nbformat": 4,
 "nbformat_minor": 4
}
