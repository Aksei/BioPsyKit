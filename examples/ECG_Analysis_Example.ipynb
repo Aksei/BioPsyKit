{
 "cells": [
  {
   "cell_type": "markdown",
   "metadata": {},
   "source": [
    "# ECG Analysis Example"
   ]
  },
  {
   "cell_type": "markdown",
   "metadata": {},
   "source": [
    "<div class=\"alert alert-block alert-info\">\n",
    "This example notebook illustrates how to further analyze and plot processed ECG data (i.e. outputs generated from a processing pipeline as depicted in <code>ECG_Processing_Example.ipynb</code>).\n",
    "</div>"
   ]
  },
  {
   "cell_type": "code",
   "execution_count": null,
   "metadata": {},
   "outputs": [],
   "source": [
    "from pathlib import Path\n",
    "\n",
    "import re\n",
    "\n",
    "import pandas as pd\n",
    "import numpy as np\n",
    "\n",
    "import biopsykit as bp\n",
    "import biopsykit.signals.ecg as ecg\n",
    "from biopsykit.signals.ecg import EcgProcessor\n",
    "\n",
    "import matplotlib.pyplot as plt\n",
    "import seaborn as sns\n",
    "\n",
    "%matplotlib widget\n",
    "%load_ext autoreload\n",
    "%autoreload 2"
   ]
  },
  {
   "cell_type": "code",
   "execution_count": null,
   "metadata": {},
   "outputs": [],
   "source": [
    "plt.close('all')\n",
    "plt.rcParams['figure.figsize'] = (10,5)\n",
    "sns.set(style='ticks')"
   ]
  },
  {
   "cell_type": "markdown",
   "metadata": {},
   "source": [
    "### Load Data"
   ]
  },
  {
   "cell_type": "markdown",
   "metadata": {},
   "source": [
    "**Subject Conditions**"
   ]
  },
  {
   "cell_type": "code",
   "execution_count": null,
   "metadata": {},
   "outputs": [],
   "source": [
    "dict_condition = bp.io.load_subject_condition_list(\"../example_data/condition_list.csv\")"
   ]
  },
  {
   "cell_type": "markdown",
   "metadata": {},
   "source": [
    "**Heart Rate Phase Dict**"
   ]
  },
  {
   "cell_type": "markdown",
   "metadata": {},
   "source": [
    "Load absolute and normalized heart rate exports. Which kind of data you need depends on the research question you are interested in and the analysis approach you choose"
   ]
  },
  {
   "cell_type": "code",
   "execution_count": null,
   "metadata": {},
   "outputs": [],
   "source": [
    "dict_phase = pd.read_excel(\"../example_data/hr_phase_export_sample.xlsx\", index_col=\"time\", sheet_name=None)\n",
    "dict_phase_norm = pd.read_excel(\"../example_data/hr_phase_export_sample_normalized.xlsx\", index_col=\"time\", sheet_name=None)"
   ]
  },
  {
   "cell_type": "markdown",
   "metadata": {},
   "source": [
    "### Rearrange Data"
   ]
  },
  {
   "cell_type": "markdown",
   "metadata": {},
   "source": [
    "**Split 'Phase dict' into 'Subphase dict'** (*optional*):\n",
    "\n",
    "If your data/protocol/etc. is divided into multiple phases, each consisting of two or more subphases you might want to analyze separately or compare among each other, you can split the 'Phase dict' into a 'Subphase dict' using `bp.utils.data_processing.split_subphases()`\n",
    "\n",
    "The output is `dict_subph`: a Nested dictionary with heart rate data per Phase and Subphase, respectively\n",
    "* keys = Phase names\n",
    "* values = dictionary with Heart Rate data per Subphase:\n",
    "    * keys = Subphase names\n",
    "    * values = Heart Rate data (pandas DataFrame)"
   ]
  },
  {
   "cell_type": "markdown",
   "metadata": {},
   "source": [
    "If your subphases have fixed lengths and each subphase begins right after the previous subphase you can simply pass a list of subphase names and durations as parameter:"
   ]
  },
  {
   "cell_type": "code",
   "execution_count": null,
   "metadata": {},
   "outputs": [],
   "source": [
    "dict_subph = bp.utils.data_processing.split_dict_into_subphases(dict_phase, subphases={'Start': 60, 'Middle': 180, 'End': 120})"
   ]
  },
  {
   "cell_type": "markdown",
   "metadata": {},
   "source": [
    "If your subphases have fixed lengths, but each subphase does *not* begin right after the previous subphase you can pass the relative start and end times (in seconds) of each subphase as list of tuples:"
   ]
  },
  {
   "cell_type": "code",
   "execution_count": null,
   "metadata": {},
   "outputs": [],
   "source": [
    "dict_subph = bp.utils.data_processing.split_dict_into_subphases(dict_phase, subphase_names=['Start', 'Middle', 'End'], subphase_times=[(0, 60), (80, 260), (280, 340)])"
   ]
  },
  {
   "cell_type": "markdown",
   "metadata": {},
   "source": [
    "If the last subphase does not have fixed length (e.g. because the last subphase was a *Feedback* phase with variable length), but you want all the data, you first need to find the phase with the longest recording and pass this as the last subphase duration. The shorter intervals are automatically cut to their maximal length"
   ]
  },
  {
   "cell_type": "code",
   "execution_count": null,
   "metadata": {},
   "outputs": [],
   "source": [
    "dict_subph = bp.utils.data_processing.split_dict_into_subphases(dict_phase, subphases={'Start': 60, 'Middle': 180, 'End': 0})"
   ]
  },
  {
   "cell_type": "markdown",
   "metadata": {},
   "source": [
    "**Split HR Phase Dict into Conditions**"
   ]
  },
  {
   "cell_type": "code",
   "execution_count": null,
   "metadata": {},
   "outputs": [],
   "source": [
    "dict_groups = bp.utils.data_processing.split_subject_conditions(dict_phase, dict_condition)"
   ]
  },
  {
   "cell_type": "markdown",
   "metadata": {},
   "source": [
    "**Split 'Phase dict' of each condition into 'Subphase dict'**"
   ]
  },
  {
   "cell_type": "markdown",
   "metadata": {},
   "source": [
    "Same as splitting a simple 'Phase dict' without different conditions, just set `is_group_dict=True`"
   ]
  },
  {
   "cell_type": "code",
   "execution_count": null,
   "metadata": {},
   "outputs": [],
   "source": [
    "dict_subph_groups = bp.utils.data_processing.split_subject_conditions(dict_subph, dict_condition)"
   ]
  },
  {
   "cell_type": "markdown",
   "metadata": {},
   "source": [
    "#### Compute Parameter"
   ]
  },
  {
   "cell_type": "markdown",
   "metadata": {},
   "source": [
    "**Mean Heart Rate PER SUBJECT during each Phase/Subphase**\n",
    "\n",
    "$\\Rightarrow$ These parameters can then be exported and/or used to compute statistics and for plotting"
   ]
  },
  {
   "cell_type": "markdown",
   "metadata": {},
   "source": [
    "Only phases - no group dict"
   ]
  },
  {
   "cell_type": "code",
   "execution_count": null,
   "metadata": {},
   "outputs": [],
   "source": [
    "bp.utils.data_processing.mean_per_subject_dict(dict_phase, dict_levels=[\"phase\", \"subject\"], param_name=\"HR\")"
   ]
  },
  {
   "cell_type": "markdown",
   "metadata": {},
   "source": [
    "Phases and subphases - no group dict"
   ]
  },
  {
   "cell_type": "code",
   "execution_count": null,
   "metadata": {},
   "outputs": [],
   "source": [
    "bp.utils.data_processing.mean_per_subject_dict(dict_subph, dict_levels=[\"phase\", \"subphase\", \"subject\"], param_name=\"HR\")"
   ]
  },
  {
   "cell_type": "markdown",
   "metadata": {},
   "source": [
    "Only phases - group dict"
   ]
  },
  {
   "cell_type": "code",
   "execution_count": null,
   "metadata": {},
   "outputs": [],
   "source": [
    "bp.utils.data_processing.mean_per_subject_dict(dict_groups, dict_levels=[\"condition\", \"phase\", \"subject\"], param_name=\"HR\")"
   ]
  },
  {
   "cell_type": "markdown",
   "metadata": {},
   "source": [
    "Phases and subphases - group dict"
   ]
  },
  {
   "cell_type": "code",
   "execution_count": null,
   "metadata": {},
   "outputs": [],
   "source": [
    "bp.utils.data_processing.mean_per_subject_nested_dict(dict_subph_groups, param_name=\"HR\", is_group_dict=True).head()"
   ]
  },
  {
   "cell_type": "markdown",
   "metadata": {},
   "source": [
    "**Mean and Standard Error of Heart Rate during each Subphase** (for all data and split into conditions)"
   ]
  },
  {
   "cell_type": "code",
   "execution_count": null,
   "metadata": {},
   "outputs": [],
   "source": [
    "# compute 'mse dataframe' for all data\n",
    "mean_se = bp.utils.data_processing.mean_se_nested_dict(dict_subph)\n",
    "mean_se"
   ]
  },
  {
   "cell_type": "code",
   "execution_count": null,
   "metadata": {},
   "outputs": [],
   "source": [
    "# compute 'mse dataframe' for each condition individually\n",
    "mean_se_groups = bp.utils.data_processing.mean_se_nested_dict(dict_subph_groups, is_group_dict=True)\n",
    "mean_se_groups"
   ]
  },
  {
   "cell_type": "code",
   "execution_count": null,
   "metadata": {},
   "outputs": [],
   "source": []
  }
 ],
 "metadata": {
  "kernelspec": {
   "display_name": "Python 3",
   "language": "python",
   "name": "python3"
  },
  "language_info": {
   "codemirror_mode": {
    "name": "ipython",
    "version": 3
   },
   "file_extension": ".py",
   "mimetype": "text/x-python",
   "name": "python",
   "nbconvert_exporter": "python",
   "pygments_lexer": "ipython3",
   "version": "3.8.3"
  },
  "toc-showtags": false
 },
 "nbformat": 4,
 "nbformat_minor": 4
}
