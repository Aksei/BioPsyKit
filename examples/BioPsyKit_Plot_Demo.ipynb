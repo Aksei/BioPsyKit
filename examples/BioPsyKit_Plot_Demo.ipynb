{
 "cells": [
  {
   "cell_type": "markdown",
   "metadata": {},
   "source": [
    "Demo for the new plotting functions of `BioPsyKit`: `bp.plotting.feature_boxplot()` and `bp.plotting.multi_feature_boxplot()` and the derived functions: `bp.protocols.plotting.saliva_feature_boxplot()` and `bp.protocols.plotting.saliva_multi_feature_boxplot()`."
   ]
  },
  {
   "cell_type": "code",
   "execution_count": null,
   "metadata": {},
   "outputs": [],
   "source": [
    "from pathlib import Path\n",
    "\n",
    "import pandas as pd\n",
    "import numpy as np\n",
    "\n",
    "import biopsykit as bp\n",
    "from biopsykit.utils.dataframe_handling import multi_xs\n",
    "from biopsykit.stats import StatsPipeline\n",
    "from biopsykit.protocols import CAR\n",
    "\n",
    "from carwatch_analysis.saliva_helper import import_cortisol_raw, import_cortisol_features, analysis_saliva_raw, analysis_saliva_features\n",
    "from carwatch_analysis.general_helper import describe_groups_df\n",
    "\n",
    "from statannot import add_stat_annotation\n",
    "\n",
    "import pingouin as pg\n",
    "\n",
    "import matplotlib.pyplot as plt\n",
    "import seaborn as sns\n",
    "\n",
    "%matplotlib widget\n",
    "%load_ext autoreload\n",
    "%autoreload 2"
   ]
  },
  {
   "cell_type": "code",
   "execution_count": null,
   "metadata": {},
   "outputs": [],
   "source": [
    "pg.options['round'] = 3\n",
    "\n",
    "sns.set(style='ticks', context='talk')\n",
    "#plt.rcParams['figure.figsize'] = (15,5)\n",
    "plt.rcParams['figure.figsize'] = (10,5)\n",
    "plt.close('all')\n",
    "\n",
    "export = True\n",
    "\n",
    "palette = bp.colors.fau_palette\n",
    "sns.set_palette(palette)\n",
    "palette"
   ]
  },
  {
   "cell_type": "code",
   "execution_count": null,
   "metadata": {},
   "outputs": [],
   "source": [
    "export_path = Path(\"../../exports\")\n",
    "plot_path = export_path.joinpath(\"plots\")\n",
    "stats_path = export_path.joinpath(\"statistics\")\n",
    "\n",
    "paper_path = Path(\"/Users/Richer/Documents/PhD/Research/Papers/2021_CARInnerClock_EMBC/img\")\n",
    "#paper_path = paper_path.joinpath('img')\n",
    "\n",
    "bp.utils.file_handling.mkdirs([plot_path, stats_path, paper_path])"
   ]
  },
  {
   "cell_type": "markdown",
   "metadata": {},
   "source": [
    "## Data Import"
   ]
  },
  {
   "cell_type": "code",
   "execution_count": null,
   "metadata": {},
   "outputs": [],
   "source": [
    "car = CAR(saliva_times=[i*15 for i in range(5)])\n",
    "\n",
    "condition_order = [\"Spontaneous\", \"Known Alarm\", \"Unknown Alarm\"]"
   ]
  },
  {
   "cell_type": "markdown",
   "metadata": {},
   "source": [
    "### Raw Cortisol"
   ]
  },
  {
   "cell_type": "code",
   "execution_count": null,
   "metadata": {},
   "outputs": [],
   "source": [
    "cort_samples = import_cortisol_raw(export_path.joinpath(\"cortisol_samples_cleaned.csv\"))\n",
    "cort_samples.head()"
   ]
  },
  {
   "cell_type": "markdown",
   "metadata": {},
   "source": [
    "### Cortsol Features"
   ]
  },
  {
   "cell_type": "code",
   "execution_count": null,
   "metadata": {},
   "outputs": [],
   "source": [
    "cort_features = import_cortisol_features(export_path.joinpath(\"cortisol_features_cleaned.csv\"))\n",
    "cort_features.head()"
   ]
  },
  {
   "cell_type": "markdown",
   "metadata": {},
   "source": [
    "## MIXED ANOVA"
   ]
  },
  {
   "cell_type": "code",
   "execution_count": null,
   "metadata": {},
   "outputs": [],
   "source": [
    "pipeline = StatsPipeline(\n",
    "    steps=[\n",
    "        ('prep', 'normality'),\n",
    "        ('prep', 'equal_var'),\n",
    "        ('test', 'mixed_anova'),\n",
    "        ('posthoc', 'pairwise_ttests')\n",
    "    ],\n",
    "    params={\n",
    "        'dv': 'cortisol',\n",
    "        'between': \"condition\",\n",
    "        'within': 'sample',\n",
    "        'subject': 'night_id',\n",
    "        #'padjust': 'bonf'\n",
    "    }\n",
    ")\n",
    "\n",
    "pipeline.apply(cort_samples)\n",
    "pipeline.results_cat(\"posthoc\")\n",
    "#pipeline.display_results()"
   ]
  },
  {
   "cell_type": "code",
   "execution_count": null,
   "metadata": {},
   "outputs": [],
   "source": [
    "box_pairs, pvalues = pipeline.sig_brackets(\"posthoc\", \"interaction\", \"multi\")\n",
    "\n",
    "fig, ax = plt.subplots()\n",
    "bp.plotting.feature_boxplot(\n",
    "    data=cort_samples, \n",
    "    x='sample', \n",
    "    y='cortisol', \n",
    "    hue='condition',\n",
    "    hue_order=condition_order, \n",
    "    stats_kwargs={\n",
    "        'box_pairs': box_pairs, \n",
    "        'pvalues': pvalues\n",
    "    }, \n",
    "    ax=ax)\n",
    "fig.tight_layout()"
   ]
  },
  {
   "cell_type": "markdown",
   "metadata": {},
   "source": [
    "## RM ANOVA"
   ]
  },
  {
   "cell_type": "code",
   "execution_count": null,
   "metadata": {},
   "outputs": [],
   "source": [
    "pipeline = StatsPipeline(\n",
    "    steps=[\n",
    "        ('prep', 'normality'),\n",
    "        ('prep', 'equal_var'),\n",
    "        ('test', 'rm_anova'),\n",
    "        ('posthoc', 'pairwise_ttests')\n",
    "    ],\n",
    "    params={\n",
    "        'dv': 'cortisol',\n",
    "        'within': 'sample',\n",
    "        'subject': 'night_id',\n",
    "        'padjust': 'bonf'\n",
    "    }\n",
    ")\n",
    "\n",
    "pipeline.apply(cort_samples)\n",
    "#pipeline.display_results()\n",
    "pipeline.results_cat(\"posthoc\")"
   ]
  },
  {
   "cell_type": "code",
   "execution_count": null,
   "metadata": {},
   "outputs": [],
   "source": [
    "box_pairs, pvalues = pipeline.sig_brackets(\"posthoc\", \"within\", \"single\")\n",
    "\n",
    "fig, ax = plt.subplots()\n",
    "bp.plotting.feature_boxplot(\n",
    "    data=cort_samples, \n",
    "    x='sample', \n",
    "    y='cortisol', \n",
    "    stats_kwargs={\n",
    "        'box_pairs': box_pairs, \n",
    "        'pvalues': pvalues\n",
    "    }, \n",
    "    ax=ax)\n",
    "fig.tight_layout()"
   ]
  },
  {
   "cell_type": "markdown",
   "metadata": {},
   "source": [
    "## ANOVA"
   ]
  },
  {
   "cell_type": "code",
   "execution_count": null,
   "metadata": {},
   "outputs": [],
   "source": [
    "pipeline = StatsPipeline(\n",
    "    steps=[\n",
    "        ('prep', 'normality'),\n",
    "        ('prep', 'equal_var'),\n",
    "        ('test', 'anova'),\n",
    "        ('posthoc', 'pairwise_ttests')\n",
    "    ],\n",
    "    params={\n",
    "        'dv': 'cortisol',\n",
    "        'between': \"condition\",\n",
    "        'padjust': 'bonf'\n",
    "    }\n",
    ")\n",
    "\n",
    "pipeline.apply(cort_samples)\n",
    "pipeline.results_cat(\"posthoc\")"
   ]
  },
  {
   "cell_type": "code",
   "execution_count": null,
   "metadata": {},
   "outputs": [],
   "source": [
    "box_pairs, pvalues = pipeline.sig_brackets(\"posthoc\", \"between\", \"single\")\n",
    "\n",
    "fig, ax = plt.subplots()\n",
    "bp.plotting.feature_boxplot(\n",
    "    data=cort_samples, \n",
    "    x='condition', \n",
    "    y='cortisol', \n",
    "    stats_kwargs={\n",
    "        'box_pairs': box_pairs, \n",
    "        'pvalues': pvalues\n",
    "    }, \n",
    "    ax=ax)\n",
    "fig.tight_layout()"
   ]
  },
  {
   "cell_type": "code",
   "execution_count": null,
   "metadata": {},
   "outputs": [],
   "source": [
    "pipeline = StatsPipeline(\n",
    "    steps=[\n",
    "        ('prep', 'normality'),\n",
    "        ('prep', 'equal_var'),\n",
    "        ('test', 'anova'),\n",
    "        ('posthoc', 'pairwise_gameshowell')\n",
    "    ],\n",
    "    params={\n",
    "        'groupby': 'biomarker',\n",
    "        'dv': 'cortisol',\n",
    "        'between': \"condition\",\n",
    "        'padjust': 'bonf'\n",
    "    }\n",
    ")\n",
    "\n",
    "pipeline.apply(cort_features)\n",
    "pipeline.results_cat(\"posthoc\")"
   ]
  },
  {
   "cell_type": "code",
   "execution_count": null,
   "metadata": {},
   "outputs": [],
   "source": [
    "feature = 'slopeS0S3'\n",
    "\n",
    "box_pairs, pvals = pipeline.sig_brackets('posthoc', stats_type='between', plot_type='single', features=feature)\n",
    "data_plot = cort_features.xs(feature, level='biomarker')\n",
    "\n",
    "fig, ax = plt.subplots()\n",
    "car.saliva_feature_boxplot(data=data_plot, x='condition', saliva_type='cortisol', feature=feature, order=condition_order, \n",
    "                           stats_kwargs={'box_pairs': box_pairs, 'pvalues': pvals}, \n",
    "                           ax=ax)\n",
    "fig.tight_layout()"
   ]
  },
  {
   "cell_type": "code",
   "execution_count": null,
   "metadata": {},
   "outputs": [],
   "source": [
    "feature = ['slopeS0S4']\n",
    "\n",
    "box_pairs, pvals = pipeline.sig_brackets('posthoc', stats_type='between', plot_type='multi', features=feature, x=\"biomarker\")\n",
    "\n",
    "data = multi_xs(cort_features, feature, level='biomarker')\n",
    "\n",
    "fig, ax = plt.subplots()\n",
    "car.saliva_feature_boxplot(data=data, x='biomarker', saliva_type='cortisol', hue='condition', feature=feature, hue_order=condition_order, \n",
    "                           stats_kwargs={'box_pairs': box_pairs, 'pvalues': pvals}, \n",
    "                           ax=ax)\n",
    "fig.tight_layout()"
   ]
  },
  {
   "cell_type": "code",
   "execution_count": null,
   "metadata": {},
   "outputs": [],
   "source": [
    "features = ['slopeS0S3', 'slopeS0S4']\n",
    "\n",
    "box_pairs, pvals = pipeline.sig_brackets('posthoc', stats_type='between', plot_type='multi', features=features, x=\"biomarker\")\n",
    "\n",
    "data = cort_features.filter(like='slope', axis=0)\n",
    "\n",
    "fig, ax = plt.subplots()\n",
    "car.saliva_feature_boxplot(data=data, x='biomarker', saliva_type='cortisol', hue='condition', hue_order=condition_order, feature=features, \n",
    "                           stats_kwargs={'box_pairs': box_pairs, 'pvalues': pvals}, \n",
    "                           ax=ax)\n",
    "fig.tight_layout()"
   ]
  },
  {
   "cell_type": "code",
   "execution_count": null,
   "metadata": {},
   "outputs": [],
   "source": []
  },
  {
   "cell_type": "code",
   "execution_count": null,
   "metadata": {},
   "outputs": [],
   "source": []
  },
  {
   "cell_type": "code",
   "execution_count": null,
   "metadata": {},
   "outputs": [],
   "source": []
  }
 ],
 "metadata": {
  "kernelspec": {
   "display_name": "Python 3",
   "language": "python",
   "name": "python3"
  },
  "language_info": {
   "codemirror_mode": {
    "name": "ipython",
    "version": 3
   },
   "file_extension": ".py",
   "mimetype": "text/x-python",
   "name": "python",
   "nbconvert_exporter": "python",
   "pygments_lexer": "ipython3",
   "version": "3.8.3"
  }
 },
 "nbformat": 4,
 "nbformat_minor": 4
}
