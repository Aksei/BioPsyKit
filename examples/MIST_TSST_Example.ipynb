{
 "cells": [
  {
   "cell_type": "markdown",
   "metadata": {},
   "source": [
    "# MIST / TSST Examples"
   ]
  },
  {
   "cell_type": "code",
   "execution_count": null,
   "metadata": {},
   "outputs": [],
   "source": [
    "from pathlib import Path\n",
    "\n",
    "import re\n",
    "\n",
    "import pandas as pd\n",
    "import numpy as np\n",
    "\n",
    "import biopsykit as bp\n",
    "from biopsykit.protocols import MIST, TSST\n",
    "\n",
    "import matplotlib.pyplot as plt\n",
    "import seaborn as sns\n",
    "\n",
    "%matplotlib widget\n",
    "%load_ext autoreload\n",
    "%autoreload 2"
   ]
  },
  {
   "cell_type": "code",
   "execution_count": null,
   "metadata": {},
   "outputs": [],
   "source": [
    "sns.set(style='ticks')"
   ]
  },
  {
   "cell_type": "markdown",
   "metadata": {},
   "source": [
    "**Note:**\n",
    "\n",
    "This example illustrates how to process and plot data for the Montreal Imaging Stress Task (MIST) and the Trier Social Stress Task (TSST). For this, it uses functions to split data, compute parameter, etc. that are part of the respective classes in `BioPsyKit` representing the different stress protocols (e.g., `bp.protocols.MIST()` or `bp.protocols.TSST()`). These functions simplify the computation for these protocols. If you developed your own stress procotol and want to use a similar processing approach, `BioPsyKit` also offers these functions to be used stand-alone and without having to create a new object for your stress protocol.\n",
    "\n",
    "You can find the equivalent functions here:\n",
    "\n",
    "* `bp.protocols.MIST.split_subphases(data, is_group_dict)` $\\rightarrow$ `bp.utils.data_processing.split_subphases(data, subphase_names, subphase_times, is_group_dict)` \n",
    "* `bp.protocols.MIST.split_groups(data, dict_condition)` $\\rightarrow$ `bp.utils.data_processing.split_groups(data, dict_condition)`\n",
    "* `bp.protocols.MIST.hr_mean_se_subphases(data, is_group_dict)` $\\rightarrow$ `bp.utils.data_processing.mean_se_nested_dict(data, subphases, is_group_dict)`\n",
    "* `bp.protocols.MIST.hr_mean_plot(data)` $\\rightarrow$ `bp.protocols.plotting.hr_mean_plot(data)` ($\\rightarrow$ see `ECG_Analysis_Example.ipynb` for examples)\n",
    "* `bp.protocols.MIST.saliva_plot(data, biomarker)` $\\rightarrow$ `bp.protocols.plotting.saliva_plot(data, biomarker, saliva_times, test_times)` ($\\rightarrow$ see `Saliva_Example.ipynb` for an example)\n",
    "\n",
    "If your protocol does **not** have subphases (only phases, like the TSST for example only has the phases *Preparation*, *Speaking*, *Mental Arithmetic*) you can ue all these functions equivalently, just without splitting your data into subphases!"
   ]
  },
  {
   "cell_type": "markdown",
   "metadata": {},
   "source": [
    "## MIST"
   ]
  },
  {
   "cell_type": "markdown",
   "metadata": {},
   "source": [
    "Create a MIST object with default parameter:\n",
    "* *Phases*: MIST1, MIST2, MIST3\n",
    "* *Subphases*: BL, AT, FB\n",
    "* *Subphase Durations*: 60, 240, 0 (Feedback Interval has length 0 because it's of variable length for each MIST phase and will later be inferred from the data)\n",
    "\n",
    "If you want to create a MIST object with other parameters, you can pass this to the constructor `MIST()`"
   ]
  },
  {
   "cell_type": "code",
   "execution_count": null,
   "metadata": {},
   "outputs": [],
   "source": [
    "mist = MIST()\n",
    "mist"
   ]
  },
  {
   "cell_type": "markdown",
   "metadata": {},
   "source": [
    "### ECG Results"
   ]
  },
  {
   "cell_type": "markdown",
   "metadata": {},
   "source": [
    "#### Load Data"
   ]
  },
  {
   "cell_type": "markdown",
   "metadata": {},
   "source": [
    "**Subject Conditions**"
   ]
  },
  {
   "cell_type": "code",
   "execution_count": null,
   "metadata": {},
   "outputs": [],
   "source": [
    "dict_condition = bp.io.load_subject_condition_list(\"../example_data/condition_list.csv\")"
   ]
  },
  {
   "cell_type": "markdown",
   "metadata": {},
   "source": [
    "**HR Phase Dict**:\n",
    "\n",
    "`dict_phase`: Dictionary with Heart Rate data per MIST Phase\n",
    "* keys = Phase names\n",
    "* values = Heart Rate data (pandas DataFrame)"
   ]
  },
  {
   "cell_type": "code",
   "execution_count": null,
   "metadata": {},
   "outputs": [],
   "source": [
    "# Load all sheets of the Excel file containing normalized heart rate date for all subjects, split into the different phases\n",
    "dict_phase = pd.read_excel(\"../example_data/hr_phase_export_sample_normalized.xlsx\", sheet_name=None, index_col=\"Time\")"
   ]
  },
  {
   "cell_type": "markdown",
   "metadata": {},
   "source": [
    "#### Rearrange Data"
   ]
  },
  {
   "cell_type": "markdown",
   "metadata": {},
   "source": [
    "**Split 'Phase dict' into 'Subphase dict'**:\n",
    "\n",
    "`dict_subph`: Nested dictionary with heart rate data per MIST Phase and Subphase, respectively\n",
    "* keys = Phase names\n",
    "* values = dictionary with Heart Rate data per Subphase:\n",
    "    * keys = Subphase names\n",
    "    * values = Heart Rate data (pandas DataFrame)"
   ]
  },
  {
   "cell_type": "code",
   "execution_count": null,
   "metadata": {},
   "outputs": [],
   "source": [
    "dict_subph = mist.split_subphases(dict_phase)"
   ]
  },
  {
   "cell_type": "markdown",
   "metadata": {},
   "source": [
    "**Split HR Phase Dict into Conditions**"
   ]
  },
  {
   "cell_type": "code",
   "execution_count": null,
   "metadata": {},
   "outputs": [],
   "source": [
    "dict_groups = mist.split_groups(dict_phase, dict_condition)"
   ]
  },
  {
   "cell_type": "markdown",
   "metadata": {},
   "source": [
    "**Split 'Phase dict' of each condition into 'Subphase dict'**"
   ]
  },
  {
   "cell_type": "code",
   "execution_count": null,
   "metadata": {},
   "outputs": [],
   "source": [
    "dict_subph_groups = mist.split_subphases(dict_groups, is_group_dict=True)"
   ]
  },
  {
   "cell_type": "markdown",
   "metadata": {},
   "source": [
    "#### Compute Parameter"
   ]
  },
  {
   "cell_type": "markdown",
   "metadata": {},
   "source": [
    "**Mean and Standard Error of Heart Rate during each Subphase** (for all data and split into conditions)"
   ]
  },
  {
   "cell_type": "code",
   "execution_count": null,
   "metadata": {},
   "outputs": [],
   "source": [
    "bp.utils.data_processing.mean_per_subject_nested_dict(dict_phase, param_name=\"HR\")"
   ]
  },
  {
   "cell_type": "code",
   "execution_count": null,
   "metadata": {},
   "outputs": [],
   "source": [
    "# compute 'mse dataframe' for all data\n",
    "mean_se = mist.hr_mean_se_subphases(dict_subph)\n",
    "mean_se"
   ]
  },
  {
   "cell_type": "code",
   "execution_count": null,
   "metadata": {},
   "outputs": [],
   "source": [
    "# compute 'mse dataframe' for each condition individually\n",
    "mean_se_groups = mist.hr_mean_se_subphases(dict_subph_groups, is_group_dict=True)\n",
    "mean_se_groups"
   ]
  },
  {
   "cell_type": "markdown",
   "metadata": {},
   "source": [
    "#### Plots"
   ]
  },
  {
   "cell_type": "markdown",
   "metadata": {},
   "source": [
    "##### HR Ensemble Plot"
   ]
  },
  {
   "cell_type": "code",
   "execution_count": null,
   "metadata": {},
   "outputs": [],
   "source": [
    "fig, ax = plt.subplots(figsize=(10,5))\n",
    "mist.hr_ensemble_plot(dict_phase, ax=ax)"
   ]
  },
  {
   "cell_type": "markdown",
   "metadata": {},
   "source": [
    "##### HR Mean and Standard Error per MIST Phase"
   ]
  },
  {
   "cell_type": "code",
   "execution_count": null,
   "metadata": {},
   "outputs": [],
   "source": [
    "fig, ax = plt.subplots(figsize=(10, 5))\n",
    "ax = mist.hr_mean_plot(data=mean_se, ax=ax)"
   ]
  },
  {
   "cell_type": "code",
   "execution_count": null,
   "metadata": {},
   "outputs": [],
   "source": [
    "fig, ax = plt.subplots(figsize=(10, 5))\n",
    "ax = mist.hr_mean_plot(data=mean_se_groups, ax=ax)"
   ]
  },
  {
   "cell_type": "markdown",
   "metadata": {},
   "source": [
    "### Saliva Results"
   ]
  },
  {
   "cell_type": "code",
   "execution_count": null,
   "metadata": {},
   "outputs": [],
   "source": [
    "saliva_mist = bp.example_data.get_saliva_example(saliva_times=[-30, -1, 30, 40, 50, 60, 70])\n",
    "display(saliva_mist)"
   ]
  },
  {
   "cell_type": "code",
   "execution_count": null,
   "metadata": {},
   "outputs": [],
   "source": [
    "saliva_mist_mean = bp.saliva.utils.mean_se(saliva_mist, biomarker_type='cortisol')\n",
    "saliva_mist_mean"
   ]
  },
  {
   "cell_type": "code",
   "execution_count": null,
   "metadata": {},
   "outputs": [],
   "source": [
    "fig, ax = mist.saliva_plot(saliva_mist_mean, biomarker=\"cortisol\", figsize=(10,5))\n",
    "fig.tight_layout()"
   ]
  },
  {
   "cell_type": "markdown",
   "metadata": {},
   "source": [
    "## TSST"
   ]
  },
  {
   "cell_type": "code",
   "execution_count": null,
   "metadata": {},
   "outputs": [],
   "source": [
    "tsst = TSST()"
   ]
  },
  {
   "cell_type": "code",
   "execution_count": null,
   "metadata": {},
   "outputs": [],
   "source": [
    "saliva_tsst_mean = bp.example_data.get_saliva_mean_se_example()"
   ]
  },
  {
   "cell_type": "code",
   "execution_count": null,
   "metadata": {},
   "outputs": [],
   "source": [
    "fig, ax = tsst.saliva_plot(saliva_tsst_mean, biomarker=\"cortisol\", figsize=(10, 5))\n",
    "tsst.saliva_plot(saliva_tsst_mean, biomarker=\"amylase\", ax=ax)\n",
    "tsst.saliva_plot_combine_legend(fig, ax, biomarkers=['cortisol', 'amylase'], separate_legends=False)\n",
    "fig.tight_layout()"
   ]
  },
  {
   "cell_type": "code",
   "execution_count": null,
   "metadata": {},
   "outputs": [],
   "source": [
    "fig, ax = tsst.saliva_plot(saliva_tsst_mean, biomarker=\"il6\", figsize=(10, 5))\n",
    "fig.tight_layout()"
   ]
  },
  {
   "cell_type": "code",
   "execution_count": null,
   "metadata": {},
   "outputs": [],
   "source": []
  }
 ],
 "metadata": {
  "kernelspec": {
   "display_name": "Python 3",
   "language": "python",
   "name": "python3"
  },
  "language_info": {
   "codemirror_mode": {
    "name": "ipython",
    "version": 3
   },
   "file_extension": ".py",
   "mimetype": "text/x-python",
   "name": "python",
   "nbconvert_exporter": "python",
   "pygments_lexer": "ipython3",
   "version": "3.8.5"
  }
 },
 "nbformat": 4,
 "nbformat_minor": 4
}
