{
 "cells": [
  {
   "cell_type": "markdown",
   "metadata": {},
   "source": [
    "# Saliva Example"
   ]
  },
  {
   "cell_type": "markdown",
   "metadata": {},
   "source": [
    "<div class=\"alert alert-block alert-info\">\n",
    "This example notebook illustrates how import saliva data (cortisol, amylase, etc.), how to compute often used parameters and how to export it to perform futher analysis.\n",
    "</div>"
   ]
  },
  {
   "cell_type": "code",
   "execution_count": null,
   "metadata": {},
   "outputs": [],
   "source": [
    "from pathlib import Path\n",
    "\n",
    "import re\n",
    "\n",
    "import pandas as pd\n",
    "import numpy as np\n",
    "\n",
    "import biopsykit as bp\n",
    "\n",
    "import matplotlib.pyplot as plt\n",
    "import seaborn as sns\n",
    "\n",
    "%matplotlib widget\n",
    "%load_ext autoreload\n",
    "%autoreload 2"
   ]
  },
  {
   "cell_type": "code",
   "execution_count": null,
   "metadata": {},
   "outputs": [],
   "source": [
    "plt.close('all')\n",
    "sns.set_theme(style='ticks')\n",
    "\n",
    "palette = bp.colors.fau_palette\n",
    "\n",
    "sns.set_palette(palette)\n",
    "palette"
   ]
  },
  {
   "cell_type": "code",
   "execution_count": null,
   "metadata": {},
   "outputs": [],
   "source": [
    "path = Path(\"../example_data\")"
   ]
  },
  {
   "cell_type": "markdown",
   "metadata": {},
   "source": [
    "## Set Saliva Time Points"
   ]
  },
  {
   "cell_type": "code",
   "execution_count": null,
   "metadata": {},
   "outputs": [],
   "source": [
    "saliva_times = [-30, -1, 30, 40, 50, 60, 70]"
   ]
  },
  {
   "cell_type": "markdown",
   "metadata": {},
   "source": [
    "## Load Condition List"
   ]
  },
  {
   "cell_type": "code",
   "execution_count": null,
   "metadata": {},
   "outputs": [],
   "source": [
    "condition_list = bp.io.load_subject_condition_list(path.joinpath(\"condition_list.csv\"), return_dict=False)\n",
    "condition_list.head()"
   ]
  },
  {
   "cell_type": "markdown",
   "metadata": {},
   "source": [
    "## Load Data"
   ]
  },
  {
   "cell_type": "markdown",
   "metadata": {},
   "source": [
    "### Option 0: Load BioPsyKit example data "
   ]
  },
  {
   "cell_type": "code",
   "execution_count": null,
   "metadata": {},
   "outputs": [],
   "source": [
    "df_cort = bp.example_data.get_saliva_example()"
   ]
  },
  {
   "cell_type": "markdown",
   "metadata": {},
   "source": [
    "#### Example: Exclude Subjects 'Vp01' and 'Vp02' from Condition List and Cortisol DataFrame"
   ]
  },
  {
   "cell_type": "code",
   "execution_count": null,
   "metadata": {},
   "outputs": [],
   "source": [
    "dict_result = bp.utils.data.exclude_subjects(['Vp01', 'Vp02'], condition_list=condition_list, cortisol=df_cort)\n",
    "\n",
    "dict_result\n",
    "# reassign cleaned data\n",
    "# df_cort = dict_result['cortisol']\n",
    "# condition_list = dict_result['condition_list']"
   ]
  },
  {
   "cell_type": "markdown",
   "metadata": {},
   "source": [
    "### Option 1: Use BioPsyKit to load saliva data in 'plate' format"
   ]
  },
  {
   "cell_type": "markdown",
   "metadata": {},
   "source": [
    "Load Data into pandas Dataframe"
   ]
  },
  {
   "cell_type": "code",
   "execution_count": null,
   "metadata": {},
   "outputs": [],
   "source": [
    "cort_path = path.joinpath(\"cortisol_sample_plate.xlsx\")\n",
    "df_cort = bp.io.saliva.load_saliva_plate(file_path=cort_path, biomarker_type=\"cortisol\", condition_list=condition_list)\n",
    "\n",
    "df_cort.head()"
   ]
  },
  {
   "cell_type": "markdown",
   "metadata": {},
   "source": [
    "Load and directly pass a 'condition list' to the function"
   ]
  },
  {
   "cell_type": "code",
   "execution_count": null,
   "metadata": {},
   "outputs": [],
   "source": [
    "cort_path = path.joinpath(\"cortisol_sample_plate.xlsx\")\n",
    "df_cort = bp.io.saliva.load_saliva_plate(file_path=cort_path, biomarker_type=\"cortisol\", condition_list=condition_list)\n",
    "\n",
    "df_cort.head()"
   ]
  },
  {
   "cell_type": "markdown",
   "metadata": {},
   "source": [
    "Speficy your custom regular expressioin string to extract Subject ID and Saliva ID (see the documentation of `bp.saliva.io.load_saliva_plate()` for further information)\n",
    "\n",
    "For example, this regex_str will extract the subject IDs **without** the `Vp` prefix and sample IDs **without** the `S` prefix"
   ]
  },
  {
   "cell_type": "code",
   "execution_count": null,
   "metadata": {},
   "outputs": [],
   "source": [
    "cort_path = path.joinpath(\"cortisol_sample_plate.xlsx\")\n",
    "regex_str = \"Vp(\\d+) S(\\d)\"\n",
    "df_cort = bp.io.saliva.load_saliva_plate(file_path=cort_path, biomarker_type=\"cortisol\", regex_str=regex_str)\n",
    "\n",
    "df_cort.head()"
   ]
  },
  {
   "cell_type": "markdown",
   "metadata": {},
   "source": [
    "### Option 2: Use BioPsyKit to load saliva data that's already in the 'correct' format"
   ]
  },
  {
   "cell_type": "code",
   "execution_count": null,
   "metadata": {},
   "outputs": [],
   "source": [
    "cort_path = path.joinpath(\"cortisol_sample.csv\")\n",
    "df_cort = bp.io.saliva.load_saliva_wide_format(file_path=cort_path, biomarker_type=\"cortisol\", condition_col='condition')\n",
    "df_cort.head()"
   ]
  },
  {
   "cell_type": "markdown",
   "metadata": {},
   "source": [
    "## Save Data"
   ]
  },
  {
   "cell_type": "markdown",
   "metadata": {},
   "source": [
    "Save Dataframe as csv (in standardized format)"
   ]
  },
  {
   "cell_type": "code",
   "execution_count": null,
   "metadata": {},
   "outputs": [],
   "source": [
    "#saliva.io.save_saliva(path.joinpath(\"cortisol_example.csv\"), df_cort)"
   ]
  },
  {
   "cell_type": "markdown",
   "metadata": {},
   "source": [
    "## Compute Parameters"
   ]
  },
  {
   "cell_type": "code",
   "execution_count": null,
   "metadata": {},
   "outputs": [],
   "source": [
    "df_cort.head()"
   ]
  },
  {
   "cell_type": "markdown",
   "metadata": {},
   "source": [
    "### Mean and Standard Error over all Samples"
   ]
  },
  {
   "cell_type": "code",
   "execution_count": null,
   "metadata": {},
   "outputs": [],
   "source": [
    "df_cort_mean_se = bp.saliva.saliva_mean_se(df_cort)\n",
    "df_cort_mean_se"
   ]
  },
  {
   "cell_type": "markdown",
   "metadata": {},
   "source": [
    "### Other parameters"
   ]
  },
  {
   "cell_type": "markdown",
   "metadata": {},
   "source": [
    "Compute a set of \"Standard Features\", including:\n",
    "* `argmax`: location of maximum\n",
    "* `mean`: mean value\n",
    "* `std`: standard deviation\n",
    "* `skew`: skewness\n",
    "* `kurt`: kurtosis"
   ]
  },
  {
   "cell_type": "code",
   "execution_count": null,
   "metadata": {},
   "outputs": [],
   "source": [
    "bp.saliva.standard_features(df_cort).head()"
   ]
  },
  {
   "cell_type": "markdown",
   "metadata": {},
   "source": [
    "Area under the Curve (AUC), in different variations (according to Pruessner et al. 2003):\n",
    "* `auc_g`: Total Area under the Curve\n",
    "* `auc_i`: Area under the Curve with respect to increae\n",
    "* `auc_i_post`: (if `compute_auc_post=True`) Area under the Curve with respect to increase *after* the stressor: This assumes that we have an acute stress scenario and only *one* saliva sample before the stress test (except a possible `S0` for baseline)"
   ]
  },
  {
   "cell_type": "code",
   "execution_count": null,
   "metadata": {},
   "outputs": [],
   "source": [
    "bp.saliva.auc(df_cort, remove_s0=True, saliva_times=saliva_times).head()"
   ]
  },
  {
   "cell_type": "markdown",
   "metadata": {},
   "source": [
    "Absolute maximum increase (or the relative increase in percent if `percent=True`) between the *first* sample in the data and *all others*:"
   ]
  },
  {
   "cell_type": "code",
   "execution_count": null,
   "metadata": {},
   "outputs": [],
   "source": [
    "bp.saliva.max_increase(df_cort, remove_s0=True).head()"
   ]
  },
  {
   "cell_type": "markdown",
   "metadata": {},
   "source": [
    "Slope between two saliva samples (specified by `sample_idx`):"
   ]
  },
  {
   "cell_type": "code",
   "execution_count": null,
   "metadata": {},
   "outputs": [],
   "source": [
    "bp.saliva.slope(df_cort, sample_idx=(1, 4), saliva_times=saliva_times).head()"
   ]
  },
  {
   "cell_type": "markdown",
   "metadata": {},
   "source": [
    "## Plot Data"
   ]
  },
  {
   "cell_type": "markdown",
   "metadata": {},
   "source": [
    "### Using Seaborn (some very simple Examples)"
   ]
  },
  {
   "cell_type": "code",
   "execution_count": null,
   "metadata": {},
   "outputs": [],
   "source": [
    "fig, ax = plt.subplots(figsize=(7,5))\n",
    "sns.lineplot(data=df_cort.reset_index(), x='sample', y='cortisol', hue='condition', hue_order=['Control', 'Intervention'], ci=None, ax=ax);\n",
    "ax.set_xticks(df_cort.index.get_level_values('sample').unique())\n",
    "ax.legend().remove()\n",
    "ax.set_ylabel(\"Cortisol [nmol/l]\")\n",
    "ax.set_xlabel(\"Messzeitpunkte\")\n",
    "fig.tight_layout()"
   ]
  },
  {
   "cell_type": "code",
   "execution_count": null,
   "metadata": {},
   "outputs": [],
   "source": [
    "sns.relplot(data=df_cort.reset_index(), x='sample', y='cortisol', kind='line', hue='condition', hue_order=['Control', 'Intervention'])"
   ]
  },
  {
   "cell_type": "code",
   "execution_count": null,
   "metadata": {},
   "outputs": [],
   "source": [
    "fig, ax = plt.subplots()\n",
    "sns.boxplot(data=df_cort.reset_index(), x='sample', y='cortisol', hue='condition', hue_order=['Control', 'Intervention'], ax=ax)"
   ]
  },
  {
   "cell_type": "code",
   "execution_count": null,
   "metadata": {},
   "outputs": [],
   "source": [
    "fig, ax = plt.subplots()\n",
    "sns.boxplot(data=saliva.max_increase(df_cort).reset_index(), x='condition', y='cortisol_max_inc', order=['Control', 'Intervention'])"
   ]
  },
  {
   "cell_type": "code",
   "execution_count": null,
   "metadata": {},
   "outputs": [],
   "source": [
    "fig, ax = plt.subplots()\n",
    "\n",
    "display(saliva.standard_features(df_cort).groupby('condition').mean())\n",
    "\n",
    "data_long = pd.wide_to_long(saliva.standard_features(df_cort).reset_index(), stubnames=\"cortisol\", sep='_', i=['subject', 'condition'], j='feature', suffix=r\"\\w+\")\n",
    "sns.boxplot(data=data_long.reset_index(), x='feature', y='cortisol', hue='condition', hue_order=['Control', 'Intervention'], ax=ax);"
   ]
  },
  {
   "cell_type": "markdown",
   "metadata": {},
   "source": [
    "### Using functions from `BioPsyKit`"
   ]
  },
  {
   "cell_type": "code",
   "execution_count": null,
   "metadata": {},
   "outputs": [],
   "source": [
    "df_cort_mean_se.T"
   ]
  },
  {
   "cell_type": "code",
   "execution_count": null,
   "metadata": {},
   "outputs": [],
   "source": [
    "bp.protocols.plotting.saliva_plot(df_cort_mean_se, biomarker=\"cortisol\", saliva_times=saliva_times[1:], test_times=[0, 30], figsize=(10, 5), test_text=\"TEST\")"
   ]
  },
  {
   "cell_type": "code",
   "execution_count": null,
   "metadata": {},
   "outputs": [],
   "source": []
  }
 ],
 "metadata": {
  "kernelspec": {
   "display_name": "Python 3",
   "language": "python",
   "name": "python3"
  },
  "language_info": {
   "codemirror_mode": {
    "name": "ipython",
    "version": 3
   },
   "file_extension": ".py",
   "mimetype": "text/x-python",
   "name": "python",
   "nbconvert_exporter": "python",
   "pygments_lexer": "ipython3",
   "version": "3.8.3"
  },
  "toc-showtags": false
 },
 "nbformat": 4,
 "nbformat_minor": 4
}
