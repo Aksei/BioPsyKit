{
 "cells": [
  {
   "cell_type": "code",
   "execution_count": null,
   "metadata": {},
   "outputs": [],
   "source": [
    "from pathlib import Path\n",
    "\n",
    "import re\n",
    "\n",
    "import pandas as pd\n",
    "import numpy as np\n",
    "\n",
    "import biopsykit as bp\n",
    "import biopsykit.saliva as saliva\n",
    "\n",
    "import matplotlib.pyplot as plt\n",
    "import seaborn as sns\n",
    "\n",
    "%matplotlib widget\n",
    "%load_ext autoreload\n",
    "%autoreload 2"
   ]
  },
  {
   "cell_type": "code",
   "execution_count": null,
   "metadata": {},
   "outputs": [],
   "source": [
    "path = Path(\"../example_data\")"
   ]
  },
  {
   "cell_type": "markdown",
   "metadata": {},
   "source": [
    "## Load Condition List"
   ]
  },
  {
   "cell_type": "code",
   "execution_count": null,
   "metadata": {},
   "outputs": [],
   "source": [
    "condition_list = bp.io.load_subject_condition_list(path.joinpath(\"condition_list.csv\"), return_dict=False)\n",
    "condition_list.head()"
   ]
  },
  {
   "cell_type": "markdown",
   "metadata": {},
   "source": [
    "## Load Data"
   ]
  },
  {
   "cell_type": "markdown",
   "metadata": {},
   "source": [
    "### Option 0: Load BioPsyKit example data "
   ]
  },
  {
   "cell_type": "code",
   "execution_count": null,
   "metadata": {},
   "outputs": [],
   "source": [
    "df_cort = bp.example_data.get_saliva_example()"
   ]
  },
  {
   "cell_type": "markdown",
   "metadata": {},
   "source": [
    "#### Example: Exclude Subjects 'Vp01' and 'Vp02' from Condition List and Cortisol DataFrame"
   ]
  },
  {
   "cell_type": "code",
   "execution_count": null,
   "metadata": {},
   "outputs": [],
   "source": [
    "dict_result = bp.utils.exclude_subjects(['Vp01', 'Vp02'], condition_list=condition_list, cortisol=df_cort)\n",
    "\n",
    "dict_result\n",
    "# reassign cleaned data\n",
    "# df_cort = dict_result['cortisol']\n",
    "# condition_list = dict_result['condition_list']"
   ]
  },
  {
   "cell_type": "markdown",
   "metadata": {},
   "source": [
    "### Option 1: Use BioPsyKit to load saliva data in 'plate' format"
   ]
  },
  {
   "cell_type": "markdown",
   "metadata": {},
   "source": [
    "Load Data into pandas Dataframe"
   ]
  },
  {
   "cell_type": "code",
   "execution_count": null,
   "metadata": {},
   "outputs": [],
   "source": [
    "cort_path = path.joinpath(\"cortisol_sample_plate.xlsx\")\n",
    "df_cort = saliva.io.load_saliva_plate(file_path=cort_path, biomarker_type=\"cortisol\", sample_id_col=\"sample ID\", data_col=\"cortisol (nmol/l)\", condition_list=condition_list)"
   ]
  },
  {
   "cell_type": "code",
   "execution_count": null,
   "metadata": {},
   "outputs": [],
   "source": [
    "df_cort"
   ]
  },
  {
   "cell_type": "markdown",
   "metadata": {},
   "source": [
    "Save Dataframe as csv (in standardized format)"
   ]
  },
  {
   "cell_type": "code",
   "execution_count": null,
   "metadata": {},
   "outputs": [],
   "source": [
    "saliva.io.save_saliva(path.joinpath(\"cortisol_sample.csv\"), df_cort)"
   ]
  },
  {
   "cell_type": "markdown",
   "metadata": {},
   "source": [
    "### Option 2: Use BioPsyKit to load saliva data that's already in the 'correct' format"
   ]
  },
  {
   "cell_type": "code",
   "execution_count": null,
   "metadata": {},
   "outputs": [],
   "source": [
    "cort_path = path.joinpath(\"cortisol_sample.csv\")\n",
    "df_cort = saliva.io.load_saliva(file_path=cort_path, biomarker_type=\"cortisol\")\n",
    "df_cort.head()"
   ]
  },
  {
   "cell_type": "markdown",
   "metadata": {},
   "source": [
    "## Plot Data (some very simple Examples with Seaborn)"
   ]
  },
  {
   "cell_type": "code",
   "execution_count": null,
   "metadata": {},
   "outputs": [],
   "source": [
    "fig, ax = plt.subplots(figsize=(7,5))\n",
    "sns.set_theme(style='ticks')\n",
    "sns.lineplot(data=df_cort.reset_index(), x='sample', y='cortisol', hue='condition', ci=None, ax=ax);\n",
    "ax.set_xticks(df_cort.index.get_level_values('sample').unique())\n",
    "ax.set_xticklabels([\"S{}\".format(i) for i in df_cort.index.get_level_values('sample').unique()])\n",
    "ax.legend().remove()\n",
    "ax.set_ylabel(\"Cortisol [nmol/l]\")\n",
    "ax.set_xlabel(\"Messzeitpunkte\")\n",
    "fig.tight_layout()\n",
    "fig.savefig(\"/Users/Richer/Desktop/cortisol_example.pdf\", transparent=True)"
   ]
  },
  {
   "cell_type": "code",
   "execution_count": null,
   "metadata": {},
   "outputs": [],
   "source": [
    "sns.relplot(data=df_cort.reset_index(), x='sample', y='cortisol', kind='line', hue='condition')"
   ]
  },
  {
   "cell_type": "code",
   "execution_count": null,
   "metadata": {},
   "outputs": [],
   "source": [
    "fig, ax = plt.subplots()\n",
    "sns.boxplot(data=df_cort.reset_index(), x='sample', y='cortisol', hue='condition', ax=ax)"
   ]
  },
  {
   "cell_type": "code",
   "execution_count": null,
   "metadata": {},
   "outputs": [],
   "source": [
    "fig, ax = plt.subplots()\n",
    "sns.boxplot(data=saliva.max_increase(df_cort).reset_index(), x='condition', y='cortisol_max_inc')"
   ]
  },
  {
   "cell_type": "code",
   "execution_count": null,
   "metadata": {},
   "outputs": [],
   "source": [
    "fig, ax = plt.subplots()\n",
    "\n",
    "display(saliva.standard_features(df_cort).groupby('condition').mean())\n",
    "\n",
    "data_long = pd.wide_to_long(saliva.standard_features(df_cort).reset_index(), stubnames=\"cortisol\", sep='_', i=['subject', 'condition'], j='feature', suffix=r\"\\w+\")\n",
    "sns.boxplot(data=data_long.reset_index(), x='feature', y='cortisol', hue='condition', ax=ax);"
   ]
  },
  {
   "cell_type": "code",
   "execution_count": null,
   "metadata": {},
   "outputs": [],
   "source": []
  },
  {
   "cell_type": "code",
   "execution_count": null,
   "metadata": {},
   "outputs": [],
   "source": []
  }
 ],
 "metadata": {
  "kernelspec": {
   "display_name": "Python 3",
   "language": "python",
   "name": "python3"
  },
  "language_info": {
   "codemirror_mode": {
    "name": "ipython",
    "version": 3
   },
   "file_extension": ".py",
   "mimetype": "text/x-python",
   "name": "python",
   "nbconvert_exporter": "python",
   "pygments_lexer": "ipython3",
   "version": "3.8.3"
  }
 },
 "nbformat": 4,
 "nbformat_minor": 4
}
