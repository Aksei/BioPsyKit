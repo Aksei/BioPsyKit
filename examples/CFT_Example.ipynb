{
 "cells": [
  {
   "cell_type": "code",
   "execution_count": 1,
   "metadata": {},
   "outputs": [],
   "source": [
    "from pathlib import Path\n",
    "\n",
    "import re\n",
    "\n",
    "import pandas as pd\n",
    "import numpy as np\n",
    "\n",
    "import biopsykit as bp\n",
    "import biopsykit.signals.ecg as ecg\n",
    "from biopsykit.protocols import CFT\n",
    "\n",
    "from StressPatternLib import Dataset\n",
    "\n",
    "import matplotlib.pyplot as plt\n",
    "import seaborn as sns\n",
    "\n",
    "%matplotlib widget\n",
    "%load_ext autoreload\n",
    "%autoreload 2"
   ]
  },
  {
   "cell_type": "code",
   "execution_count": 417,
   "metadata": {},
   "outputs": [],
   "source": [
    "#sns.set(context='paper', style='whitegrid')\n",
    "import matplotlib as mpl\n",
    "plt.close('all')\n",
    "mpl.rcParams['timezone'] = \"Europe/Berlin\""
   ]
  },
  {
   "cell_type": "code",
   "execution_count": 121,
   "metadata": {},
   "outputs": [],
   "source": [
    "cft = CFT()"
   ]
  },
  {
   "cell_type": "code",
   "execution_count": 113,
   "metadata": {},
   "outputs": [],
   "source": [
    "path = Path(\"./ecg_result_01.xlsx\")"
   ]
  },
  {
   "cell_type": "code",
   "execution_count": 388,
   "metadata": {},
   "outputs": [],
   "source": [
    "hr_dict = ecg.io.load_hr_excel(path)\n",
    "df_hr = hr_dict['MIST3']"
   ]
  },
  {
   "cell_type": "code",
   "execution_count": 389,
   "metadata": {},
   "outputs": [],
   "source": [
    "df_cft = cft.extract_cft_interval(df_hr)\n",
    "bl = cft.baseline_hr(df_hr)"
   ]
  },
  {
   "cell_type": "code",
   "execution_count": 403,
   "metadata": {},
   "outputs": [
    {
     "data": {
      "text/html": [
       "<div>\n",
       "<style scoped>\n",
       "    .dataframe tbody tr th:only-of-type {\n",
       "        vertical-align: middle;\n",
       "    }\n",
       "\n",
       "    .dataframe tbody tr th {\n",
       "        vertical-align: top;\n",
       "    }\n",
       "\n",
       "    .dataframe thead th {\n",
       "        text-align: right;\n",
       "    }\n",
       "</style>\n",
       "<table border=\"1\" class=\"dataframe\">\n",
       "  <thead>\n",
       "    <tr style=\"text-align: right;\">\n",
       "      <th></th>\n",
       "      <th>baseline_hr</th>\n",
       "      <th>onset</th>\n",
       "      <th>onset_latency</th>\n",
       "      <th>onset_hr</th>\n",
       "      <th>onset_hr_percent</th>\n",
       "      <th>onset_slope</th>\n",
       "      <th>peak_brady</th>\n",
       "      <th>peak_brady_latency</th>\n",
       "      <th>peak_brady_bpm</th>\n",
       "      <th>peak_brady_percent</th>\n",
       "      <th>peak_brady_slope</th>\n",
       "      <th>mean_hr_bpm</th>\n",
       "      <th>mean_brady_bpm</th>\n",
       "      <th>mean_brady_percent</th>\n",
       "      <th>poly_fit_a0</th>\n",
       "      <th>poly_fit_a1</th>\n",
       "      <th>poly_fit_a2</th>\n",
       "    </tr>\n",
       "  </thead>\n",
       "  <tbody>\n",
       "    <tr>\n",
       "      <th>0</th>\n",
       "      <td>86.57039</td>\n",
       "      <td>2019-10-22 11:54:16.852000+02:00</td>\n",
       "      <td>7.305</td>\n",
       "      <td>80.0</td>\n",
       "      <td>7.589651</td>\n",
       "      <td>-0.899437</td>\n",
       "      <td>2019-10-22 11:54:36.980000+02:00</td>\n",
       "      <td>27.433</td>\n",
       "      <td>-14.457714</td>\n",
       "      <td>-16.70053</td>\n",
       "      <td>-0.527019</td>\n",
       "      <td>82.25004</td>\n",
       "      <td>-4.32035</td>\n",
       "      <td>-4.990563</td>\n",
       "      <td>0.001917</td>\n",
       "      <td>-0.230385</td>\n",
       "      <td>86.823415</td>\n",
       "    </tr>\n",
       "  </tbody>\n",
       "</table>\n",
       "</div>"
      ],
      "text/plain": [
       "   baseline_hr                            onset  onset_latency  onset_hr  \\\n",
       "0     86.57039 2019-10-22 11:54:16.852000+02:00          7.305      80.0   \n",
       "\n",
       "   onset_hr_percent  onset_slope                       peak_brady  \\\n",
       "0          7.589651    -0.899437 2019-10-22 11:54:36.980000+02:00   \n",
       "\n",
       "   peak_brady_latency  peak_brady_bpm  peak_brady_percent  peak_brady_slope  \\\n",
       "0              27.433      -14.457714           -16.70053         -0.527019   \n",
       "\n",
       "   mean_hr_bpm  mean_brady_bpm  mean_brady_percent  poly_fit_a0  poly_fit_a1  \\\n",
       "0     82.25004        -4.32035           -4.990563     0.001917    -0.230385   \n",
       "\n",
       "   poly_fit_a2  \n",
       "0    86.823415  "
      ]
     },
     "execution_count": 403,
     "metadata": {},
     "output_type": "execute_result"
    }
   ],
   "source": [
    "cft.compute_cft_parameter(df_hr)"
   ]
  },
  {
   "cell_type": "code",
   "execution_count": 418,
   "metadata": {},
   "outputs": [
    {
     "data": {
      "application/vnd.jupyter.widget-view+json": {
       "model_id": "90e4a71e0dc54ff3a877d80d8d0f99a9",
       "version_major": 2,
       "version_minor": 0
      },
      "text/plain": [
       "Canvas(toolbar=Toolbar(toolitems=[('Home', 'Reset original view', 'home', 'home'), ('Back', 'Back to previous …"
      ]
     },
     "metadata": {},
     "output_type": "display_data"
    }
   ],
   "source": [
    "fig, ax = cft.cft_plot(data=df_hr, figsize=(10,5))"
   ]
  },
  {
   "cell_type": "code",
   "execution_count": null,
   "metadata": {},
   "outputs": [],
   "source": []
  }
 ],
 "metadata": {
  "kernelspec": {
   "display_name": "Python 3",
   "language": "python",
   "name": "python3"
  },
  "language_info": {
   "codemirror_mode": {
    "name": "ipython",
    "version": 3
   },
   "file_extension": ".py",
   "mimetype": "text/x-python",
   "name": "python",
   "nbconvert_exporter": "python",
   "pygments_lexer": "ipython3",
   "version": "3.8.3"
  }
 },
 "nbformat": 4,
 "nbformat_minor": 4
}
