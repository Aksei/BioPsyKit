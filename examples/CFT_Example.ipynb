{
 "cells": [
  {
   "cell_type": "code",
   "execution_count": 2,
   "metadata": {},
   "outputs": [
    {
     "name": "stdout",
     "output_type": "stream",
     "text": [
      "The autoreload extension is already loaded. To reload it, use:\n",
      "  %reload_ext autoreload\n"
     ]
    }
   ],
   "source": [
    "from pathlib import Path\n",
    "\n",
    "import re\n",
    "\n",
    "import pandas as pd\n",
    "import numpy as np\n",
    "\n",
    "import biopsykit as bp\n",
    "import biopsykit.signals.ecg as ecg\n",
    "from biopsykit.protocols import CFT\n",
    "\n",
    "from StressPatternLib import Dataset\n",
    "\n",
    "import matplotlib.pyplot as plt\n",
    "import seaborn as sns\n",
    "\n",
    "%matplotlib widget\n",
    "%load_ext autoreload\n",
    "%autoreload 2"
   ]
  },
  {
   "cell_type": "code",
   "execution_count": null,
   "metadata": {},
   "outputs": [],
   "source": []
  },
  {
   "cell_type": "code",
   "execution_count": 3,
   "metadata": {},
   "outputs": [],
   "source": [
    "plt.close('all')\n",
    "plt.rcParams['timezone'] = \"Europe/Berlin\"\n",
    "sns.set(context='paper', style='ticks')"
   ]
  },
  {
   "cell_type": "code",
   "execution_count": 4,
   "metadata": {},
   "outputs": [],
   "source": [
    "cft = CFT()"
   ]
  },
  {
   "cell_type": "code",
   "execution_count": 5,
   "metadata": {},
   "outputs": [],
   "source": [
    "path = Path(\"../example_data/hr_sample_mist.xlsx\")"
   ]
  },
  {
   "cell_type": "code",
   "execution_count": 6,
   "metadata": {},
   "outputs": [],
   "source": [
    "hr_dict = ecg.io.load_hr_subject_dict(path)\n",
    "df_hr = hr_dict['MIST3']"
   ]
  },
  {
   "cell_type": "code",
   "execution_count": 16,
   "metadata": {},
   "outputs": [],
   "source": [
    "test = bp.example_data.get_mist_hr_example()"
   ]
  },
  {
   "cell_type": "code",
   "execution_count": 17,
   "metadata": {},
   "outputs": [
    {
     "data": {
      "text/plain": [
       "{'Part1':                                     ECG_Rate\n",
       " time                                        \n",
       " 2019-10-22 11:06:06.820000+02:00   97.215190\n",
       " 2019-10-22 11:06:08.051000+02:00   99.096774\n",
       " 2019-10-22 11:06:08.656000+02:00  100.392157\n",
       " 2019-10-22 11:06:09.254000+02:00  104.489796\n",
       " 2019-10-22 11:06:09.828000+02:00  102.400000\n",
       " ...                                      ...\n",
       " 2019-10-22 11:30:57.777000+02:00   94.233129\n",
       " 2019-10-22 11:30:58.414000+02:00   90.352941\n",
       " 2019-10-22 11:30:59.078000+02:00   85.333333\n",
       " 2019-10-22 11:30:59.781000+02:00   90.439337\n",
       " 2019-10-22 11:31:00.516000+02:00   96.195275\n",
       " \n",
       " [2394 rows x 1 columns],\n",
       " 'MIST1':                                    ECG_Rate\n",
       " time                                       \n",
       " 2019-10-22 11:29:06.734000+02:00  83.934426\n",
       " 2019-10-22 11:29:07.449000+02:00  87.272727\n",
       " 2019-10-22 11:29:08.187000+02:00  90.887574\n",
       " 2019-10-22 11:29:08.848000+02:00  93.090909\n",
       " 2019-10-22 11:29:09.492000+02:00  91.428571\n",
       " ...                                     ...\n",
       " 2019-10-22 11:38:03.746000+02:00  90.352941\n",
       " 2019-10-22 11:38:04.410000+02:00  89.302326\n",
       " 2019-10-22 11:38:05.082000+02:00  89.302326\n",
       " 2019-10-22 11:38:05.754000+02:00  92.530120\n",
       " 2019-10-22 11:38:06.402000+02:00  89.993420\n",
       " \n",
       " [809 rows x 1 columns],\n",
       " 'MIST2':                                     ECG_Rate\n",
       " time                                        \n",
       " 2019-10-22 11:41:14.703000+02:00  105.205479\n",
       " 2019-10-22 11:41:15.855000+02:00  103.783784\n",
       " 2019-10-22 11:41:16.434000+02:00  101.721854\n",
       " 2019-10-22 11:41:17.023000+02:00   98.461538\n",
       " 2019-10-22 11:41:17.633000+02:00  100.392157\n",
       " ...                                      ...\n",
       " 2019-10-22 11:49:35.887000+02:00   80.842105\n",
       " 2019-10-22 11:49:36.629000+02:00   80.842105\n",
       " 2019-10-22 11:49:37.371000+02:00   82.580645\n",
       " 2019-10-22 11:49:38.098000+02:00   89.302326\n",
       " 2019-10-22 11:49:38.770000+02:00   87.821612\n",
       " \n",
       " [736 rows x 1 columns],\n",
       " 'MIST3':                                     ECG_Rate\n",
       " time                                        \n",
       " 2019-10-22 11:53:08.977000+02:00  101.721854\n",
       " 2019-10-22 11:53:10.164000+02:00  100.392157\n",
       " 2019-10-22 11:53:10.762000+02:00   99.740260\n",
       " 2019-10-22 11:53:11.363000+02:00  101.052632\n",
       " 2019-10-22 11:53:11.957000+02:00  102.400000\n",
       " ...                                      ...\n",
       " 2019-10-22 12:00:34.437000+02:00  114.626866\n",
       " 2019-10-22 12:00:34.961000+02:00  114.626866\n",
       " 2019-10-22 12:00:35.484000+02:00  116.363636\n",
       " 2019-10-22 12:00:36+02:00         102.715720\n",
       " 2019-10-22 12:00:36.531000+02:00   91.933174\n",
       " \n",
       " [683 rows x 1 columns],\n",
       " 'Part2':                                    ECG_Rate\n",
       " time                                       \n",
       " 2019-10-22 12:00:41.363000+02:00  91.428571\n",
       " 2019-10-22 12:00:42.020000+02:00  88.786127\n",
       " 2019-10-22 12:00:42.695000+02:00  87.272727\n",
       " 2019-10-22 12:00:43.383000+02:00  86.292135\n",
       " 2019-10-22 12:00:44.078000+02:00  85.333333\n",
       " ...                                     ...\n",
       " 2019-10-22 12:42:50.840000+02:00  83.478261\n",
       " 2019-10-22 12:42:51.559000+02:00  80.842105\n",
       " 2019-10-22 12:42:52.301000+02:00  84.395604\n",
       " 2019-10-22 12:42:53.012000+02:00  87.272727\n",
       " 2019-10-22 12:42:53.699000+02:00  78.409121\n",
       " \n",
       " [3306 rows x 1 columns]}"
      ]
     },
     "execution_count": 17,
     "metadata": {},
     "output_type": "execute_result"
    }
   ],
   "source": [
    "test"
   ]
  },
  {
   "cell_type": "code",
   "execution_count": 8,
   "metadata": {},
   "outputs": [
    {
     "ename": "AttributeError",
     "evalue": "'CFT' object has no attribute 'get_hr'",
     "output_type": "error",
     "traceback": [
      "\u001b[0;31m---------------------------------------------------------------------------\u001b[0m",
      "\u001b[0;31mAttributeError\u001b[0m                            Traceback (most recent call last)",
      "\u001b[0;32m<ipython-input-8-8c3fd74a1de4>\u001b[0m in \u001b[0;36m<module>\u001b[0;34m\u001b[0m\n\u001b[0;32m----> 1\u001b[0;31m \u001b[0mdf_cft\u001b[0m \u001b[0;34m=\u001b[0m \u001b[0mcft\u001b[0m\u001b[0;34m.\u001b[0m\u001b[0mget_hr\u001b[0m\u001b[0;34m(\u001b[0m\u001b[0mdf_hr\u001b[0m\u001b[0;34m)\u001b[0m\u001b[0;34m\u001b[0m\u001b[0;34m\u001b[0m\u001b[0m\n\u001b[0m\u001b[1;32m      2\u001b[0m \u001b[0mbl\u001b[0m \u001b[0;34m=\u001b[0m \u001b[0mcft\u001b[0m\u001b[0;34m.\u001b[0m\u001b[0mbaseline_hr\u001b[0m\u001b[0;34m(\u001b[0m\u001b[0mdf_hr\u001b[0m\u001b[0;34m)\u001b[0m\u001b[0;34m\u001b[0m\u001b[0;34m\u001b[0m\u001b[0m\n",
      "\u001b[0;31mAttributeError\u001b[0m: 'CFT' object has no attribute 'get_hr'"
     ]
    }
   ],
   "source": [
    "df_cft = cft.get_hr(df_hr)\n",
    "bl = cft.baseline_hr(df_hr)"
   ]
  },
  {
   "cell_type": "code",
   "execution_count": null,
   "metadata": {},
   "outputs": [],
   "source": [
    "cft.compute_cft_parameter(df_hr)"
   ]
  },
  {
   "cell_type": "code",
   "execution_count": null,
   "metadata": {},
   "outputs": [],
   "source": [
    "fig, ax = cft.cft_plot(data=df_hr, figsize=(10,5))"
   ]
  },
  {
   "cell_type": "code",
   "execution_count": null,
   "metadata": {},
   "outputs": [],
   "source": []
  }
 ],
 "metadata": {
  "kernelspec": {
   "display_name": "Python 3",
   "language": "python",
   "name": "python3"
  },
  "language_info": {
   "codemirror_mode": {
    "name": "ipython",
    "version": 3
   },
   "file_extension": ".py",
   "mimetype": "text/x-python",
   "name": "python",
   "nbconvert_exporter": "python",
   "pygments_lexer": "ipython3",
   "version": "3.8.3"
  }
 },
 "nbformat": 4,
 "nbformat_minor": 4
}
