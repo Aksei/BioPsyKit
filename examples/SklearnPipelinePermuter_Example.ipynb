{
 "cells": [
  {
   "cell_type": "markdown",
   "metadata": {},
   "source": [
    "# Sklearn Pipeline Permuter Example"
   ]
  },
  {
   "cell_type": "code",
   "execution_count": null,
   "metadata": {},
   "outputs": [],
   "source": [
    "import pandas as pd\n",
    "import numpy as np\n",
    "\n",
    "# Utils\n",
    "from sklearn.base import clone\n",
    "\n",
    "# Preprocessing & Feature Selection\n",
    "from sklearn.feature_selection import SelectKBest, RFE\n",
    "from sklearn.preprocessing import MinMaxScaler, StandardScaler\n",
    "\n",
    "# Classification\n",
    "from sklearn.neighbors import KNeighborsClassifier\n",
    "from sklearn.svm import SVC\n",
    "from sklearn.tree import DecisionTreeClassifier\n",
    "from sklearn.ensemble import AdaBoostClassifier\n",
    "\n",
    "# Cross-Validation\n",
    "from sklearn.model_selection import KFold\n",
    "\n",
    "from biopsykit.classification.model_selection import SklearnPipelinePermuter\n",
    "\n",
    "%load_ext autoreload\n",
    "%autoreload 2"
   ]
  },
  {
   "cell_type": "code",
   "execution_count": null,
   "metadata": {},
   "outputs": [],
   "source": [
    "breast_cancer = datasets.load_breast_cancer()\n",
    "X = breast_cancer.data\n",
    "y = breast_cancer.target"
   ]
  },
  {
   "cell_type": "code",
   "execution_count": null,
   "metadata": {},
   "outputs": [],
   "source": [
    "model_dict = {\n",
    "    \"scaler\": {\n",
    "        \"StandardScaler\": StandardScaler(),\n",
    "        \"MinMaxScaler\": MinMaxScaler()\n",
    "    },\n",
    "    \"reduce_dim\": {\n",
    "        \"SelectKBest\": SelectKBest(),\n",
    "        \"RFE\": RFE(SVC(kernel=\"linear\", C=1))\n",
    "    },\n",
    "    \"clf\" : {\n",
    "        \"KNeighborsClassifier\": KNeighborsClassifier(),\n",
    "        \"DecisionTreeClassifier\": DecisionTreeClassifier(),\n",
    "        \"SVC\": SVC(),\n",
    "        \"AdaBoostClassifier\": AdaBoostClassifier(),\n",
    "    }\n",
    "}"
   ]
  },
  {
   "cell_type": "code",
   "execution_count": null,
   "metadata": {},
   "outputs": [],
   "source": [
    "C_OPTIONS = np.logspace(start=-3, stop=3, num=7)\n",
    "GAMMA_OPTIONS = np.logspace(start=-3, stop=3, num=7)\n",
    "\n",
    "params_dict = {\n",
    "    \"StandardScaler\": None,\n",
    "    \"MinMaxScaler\": None,\n",
    "    \"SelectKBest\": { \"k\": [2, 4, \"all\"] },\n",
    "    \"RFE\": { \"n_features_to_select\": [2, 4, None] },\n",
    "    \"KNeighborsClassifier\": { \"n_neighbors\": [2, 4], \"weights\": [\"uniform\", \"distance\"] },\n",
    "    \"DecisionTreeClassifier\": {\"criterion\": ['gini', 'entropy'], \"max_depth\": [2, 4] },\n",
    "    \"AdaBoostClassifier\": {\n",
    "        \"base_estimator\": [DecisionTreeClassifier(max_depth=1)],\n",
    "        \"n_estimators\": np.arange(20, 110, 10),\n",
    "        \"learning_rate\": np.arange(0.6, 1.1, 0.1)\n",
    "    },\n",
    "    \"SVC\": [\n",
    "        {\n",
    "            \"kernel\": [\"linear\"],\n",
    "            \"C\": np.logspace(start=-2, stop=2, num=5)\n",
    "        },\n",
    "        {\n",
    "            \"kernel\": [\"rbf\"],\n",
    "            \"C\": np.logspace(start=-2, stop=2, num=5),\n",
    "            \"gamma\": np.logspace(start=-2, stop=2, num=5)\n",
    "        }\n",
    "    ]\n",
    "}"
   ]
  },
  {
   "cell_type": "code",
   "execution_count": null,
   "metadata": {},
   "outputs": [],
   "source": [
    "pipeline_permuter = SklearnPipelinePermuter(model_dict, params_dict)"
   ]
  },
  {
   "cell_type": "code",
   "execution_count": null,
   "metadata": {},
   "outputs": [],
   "source": [
    "outer_cv = KFold(5)\n",
    "inner_cv = KFold(5)\n",
    "\n",
    "pipeline_permuter.fit(X, y, outer_cv=outer_cv, inner_cv=inner_cv)"
   ]
  },
  {
   "cell_type": "code",
   "execution_count": null,
   "metadata": {},
   "outputs": [],
   "source": [
    "pipeline_permuter.pipeline_score_results()"
   ]
  },
  {
   "cell_type": "code",
   "execution_count": null,
   "metadata": {},
   "outputs": [],
   "source": [
    "pipeline_permuter.mean_pipeline_score_results()"
   ]
  },
  {
   "cell_type": "code",
   "execution_count": null,
   "metadata": {},
   "outputs": [],
   "source": [
    "pipeline_permuter.best_pipeline()"
   ]
  },
  {
   "cell_type": "code",
   "execution_count": null,
   "metadata": {},
   "outputs": [],
   "source": [
    "pipeline_permuter.metric_summary()"
   ]
  },
  {
   "cell_type": "code",
   "execution_count": null,
   "metadata": {},
   "outputs": [],
   "source": []
  }
 ],
 "metadata": {
  "kernelspec": {
   "display_name": "Python 3",
   "language": "python",
   "name": "python3"
  },
  "language_info": {
   "codemirror_mode": {
    "name": "ipython",
    "version": 3
   },
   "file_extension": ".py",
   "mimetype": "text/x-python",
   "name": "python",
   "nbconvert_exporter": "python",
   "pygments_lexer": "ipython3",
   "version": "3.8.3"
  }
 },
 "nbformat": 4,
 "nbformat_minor": 4
}
