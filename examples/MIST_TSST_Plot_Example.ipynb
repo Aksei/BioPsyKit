{
 "cells": [
  {
   "cell_type": "markdown",
   "metadata": {},
   "source": [
    "# MIST / TSST Examples"
   ]
  },
  {
   "cell_type": "code",
   "execution_count": null,
   "metadata": {},
   "outputs": [],
   "source": [
    "from pathlib import Path\n",
    "\n",
    "import re\n",
    "\n",
    "import pandas as pd\n",
    "import numpy as np\n",
    "\n",
    "import biopsykit as bp\n",
    "from biopsykit.protocols import MIST, TSST, Stroop\n",
    "\n",
    "import matplotlib.pyplot as plt\n",
    "import seaborn as sns\n",
    "\n",
    "%matplotlib widget\n",
    "%reload_ext autoreload\n",
    "%autoreload 2"
   ]
  },
  {
   "cell_type": "code",
   "execution_count": null,
   "metadata": {},
   "outputs": [],
   "source": [
    "plt.close(\"all\")\n",
    "\n",
    "palette = bp.colors.fau_palette\n",
    "sns.set_theme(context=\"talk\", style=\"ticks\", palette=palette)\n",
    "palette"
   ]
  },
  {
   "cell_type": "markdown",
   "metadata": {},
   "source": [
    "## MIST"
   ]
  },
  {
   "cell_type": "code",
   "execution_count": null,
   "metadata": {},
   "outputs": [],
   "source": [
    "saliva_mist = bp.example_data.get_saliva_example(sample_times=[-30, -1, 0, 10, 20, 30, 40])\n",
    "#saliva_mist_mean = bp.saliva.mean_se(saliva_mist, 'cortisol', remove_s0=True)"
   ]
  },
  {
   "cell_type": "code",
   "execution_count": null,
   "metadata": {},
   "outputs": [],
   "source": [
    "mist = MIST()\n",
    "mist.add_saliva_data(\n",
    "    saliva_type=\"cortisol\",\n",
    "    saliva_data=saliva_mist\n",
    ")"
   ]
  },
  {
   "cell_type": "code",
   "execution_count": null,
   "metadata": {},
   "outputs": [],
   "source": [
    "data_amylase = bp.example_data.get_saliva_example(sample_times=[-30, -1, 0, 10, 20, 30, 40])\n",
    "data_amylase[\"cortisol\"] = data_amylase[\"cortisol\"] * np.random.randint(1, 5, size=len(data_amylase))\n",
    "data_amylase = data_amylase.rename(columns={\"cortisol\": \"amylase\"})\n",
    "data_amylase\n",
    "\n",
    "mist.add_saliva_data(\n",
    "    saliva_type=\"amylase\",\n",
    "    saliva_data=data_amylase\n",
    ")"
   ]
  },
  {
   "cell_type": "code",
   "execution_count": null,
   "metadata": {},
   "outputs": [],
   "source": [
    "mist.sample_times"
   ]
  },
  {
   "cell_type": "code",
   "execution_count": null,
   "metadata": {},
   "outputs": [],
   "source": [
    "fig, ax = plt.subplots(figsize=(10, 5))\n",
    "mist.saliva_plot(saliva_type=[\"cortisol\", \"amylase\"], ax=ax);"
   ]
  },
  {
   "cell_type": "code",
   "execution_count": null,
   "metadata": {},
   "outputs": [],
   "source": [
    "fig, ax = plt.subplots(figsize=(10, 5))\n",
    "bp.protocols.plotting.saliva_plot(mist.saliva_data[\"cortisol\"], test_times=[0, 30], test_text=\"MIST\", saliva_type=\"cortisol\", ax=ax)\n",
    "bp.protocols.plotting.saliva_plot(mist.saliva_data[\"amylase\"], test_times=[0, 30], test_text=\"MIST\", saliva_type=\"amylase\", ax=ax)\n",
    "bp.protocols.plotting.saliva_plot_combine_legend(fig, ax, saliva_types=[\"cortisol\", \"amylase\"], separate_legends=True)"
   ]
  },
  {
   "cell_type": "code",
   "execution_count": null,
   "metadata": {},
   "outputs": [],
   "source": [
    "#fig, ax = mist.saliva_plot(saliva_type=\"cortisol\", figsize=(10,5))\n",
    "#fig.tight_layout()"
   ]
  },
  {
   "cell_type": "markdown",
   "metadata": {},
   "source": [
    "## TSST"
   ]
  },
  {
   "cell_type": "code",
   "execution_count": null,
   "metadata": {},
   "outputs": [],
   "source": [
    "saliva_tsst_mean = bp.example_data.get_saliva_mean_se_example()"
   ]
  },
  {
   "cell_type": "code",
   "execution_count": null,
   "metadata": {},
   "outputs": [],
   "source": [
    "fig, ax = plt.subplots(figsize=(10, 5))\n",
    "bp.protocols.plotting.saliva_plot(saliva_tsst_mean[\"cortisol\"], test_times=[0, 20], test_text=\"TSST\", saliva_type=\"cortisol\", ax=ax)\n",
    "bp.protocols.plotting.saliva_plot(saliva_tsst_mean[\"il6\"], test_times=[0, 20], test_text=\"TSST\", saliva_type=\"il6\", ax=ax)\n",
    "\n",
    "bp.protocols.plotting.saliva_plot_combine_legend(fig, ax, saliva_types=[\"cortisol\", \"il6\"], separate_legends=True)"
   ]
  },
  {
   "cell_type": "code",
   "execution_count": null,
   "metadata": {},
   "outputs": [],
   "source": [
    "tsst = TSST()\n",
    "tsst.add_saliva_data(\n",
    "    saliva_type=[\"cortisol\", \"amylase\", \"il6\"],\n",
    "    saliva_data=saliva_tsst_mean\n",
    ")"
   ]
  },
  {
   "cell_type": "code",
   "execution_count": null,
   "metadata": {},
   "outputs": [],
   "source": [
    "fig, ax = tsst.saliva_plot(saliva_type=\"cortisol\", figsize=(10, 5))\n",
    "tsst.saliva_plot(saliva_type=\"amylase\", ax=ax)\n",
    "tsst.saliva_plot_combine_legend(fig, ax, saliva_types=['cortisol', 'amylase'], separate_legends=False)\n",
    "fig.tight_layout()"
   ]
  },
  {
   "cell_type": "code",
   "execution_count": null,
   "metadata": {},
   "outputs": [],
   "source": [
    "fig, ax = tsst.saliva_plot(saliva_type=\"il6\", figsize=(10, 5))\n",
    "fig.tight_layout()"
   ]
  },
  {
   "cell_type": "markdown",
   "metadata": {},
   "source": [
    "## Stroop "
   ]
  },
  {
   "cell_type": "code",
   "execution_count": null,
   "metadata": {},
   "outputs": [],
   "source": [
    "stroop = Stroop()"
   ]
  },
  {
   "cell_type": "code",
   "execution_count": null,
   "metadata": {},
   "outputs": [],
   "source": [
    "saliva_stroop = bp.example_data.get_saliva_example_stroop(sample_times=[-15, -1, 10, 20])"
   ]
  },
  {
   "cell_type": "code",
   "execution_count": null,
   "metadata": {},
   "outputs": [],
   "source": [
    "saliva_stroop_mean = bp.saliva.mean_se(saliva_stroop, 'cortisol')\n",
    "saliva_stroop_mean"
   ]
  },
  {
   "cell_type": "code",
   "execution_count": null,
   "metadata": {},
   "outputs": [],
   "source": [
    "fig, ax = stroop.saliva_plot(saliva_stroop_mean, biomarker=\"cortisol\", figsize=(10,5))\n",
    "fig.tight_layout()"
   ]
  },
  {
   "cell_type": "code",
   "execution_count": null,
   "metadata": {},
   "outputs": [],
   "source": []
  }
 ],
 "metadata": {
  "kernelspec": {
   "display_name": "Python 3",
   "language": "python",
   "name": "python3"
  },
  "language_info": {
   "codemirror_mode": {
    "name": "ipython",
    "version": 3
   },
   "file_extension": ".py",
   "mimetype": "text/x-python",
   "name": "python",
   "nbconvert_exporter": "python",
   "pygments_lexer": "ipython3",
   "version": "3.8.3"
  }
 },
 "nbformat": 4,
 "nbformat_minor": 4
}
