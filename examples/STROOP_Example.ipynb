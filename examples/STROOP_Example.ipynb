{
 "cells": [
  {
   "cell_type": "code",
   "execution_count": null,
   "metadata": {},
   "outputs": [],
   "source": [
    "from pathlib import Path\n",
    "\n",
    "import re\n",
    "\n",
    "import pandas as pd\n",
    "import numpy as np\n",
    "\n",
    "import biopsykit as bp\n",
    "import biopsykit.saliva as saliva\n",
    "from biopsykit.protocols import Stroop\n",
    "\n",
    "import matplotlib.pyplot as plt\n",
    "import seaborn as sns\n",
    "\n",
    "%load_ext autoreload\n",
    "%autoreload 2"
   ]
  },
  {
   "cell_type": "code",
   "execution_count": null,
   "metadata": {},
   "outputs": [],
   "source": [
    "sns.set(style='ticks')"
   ]
  },
  {
   "cell_type": "code",
   "execution_count": null,
   "metadata": {},
   "outputs": [],
   "source": [
    "project_folder = \"C:/Users/vmueller/BioPsyKit/example_data/stroop\""
   ]
  },
  {
   "cell_type": "markdown",
   "metadata": {},
   "source": [
    "## Stroop"
   ]
  },
  {
   "cell_type": "markdown",
   "metadata": {},
   "source": [
    "Create a Stroop object by default parameter:\n",
    "* *Phases*: Stroop 1, Stroop 2, Stroop 3\n",
    "* *Phase duration*: 3x60s,3x60s,10x60s\n",
    "\n",
    "* *Sub-phases*: Stroop, Feedback\n",
    "* *Sub-phase duration*: 70s,110s\n",
    "\n",
    "If you want to create a Stroop object with other parameters, you can pass this to the constructor `Stroop()`"
   ]
  },
  {
   "cell_type": "code",
   "execution_count": null,
   "metadata": {},
   "outputs": [],
   "source": [
    "stroop = Stroop()\n",
    "stroop"
   ]
  },
  {
   "cell_type": "markdown",
   "metadata": {},
   "source": [
    "### ECG Results "
   ]
  },
  {
   "cell_type": "markdown",
   "metadata": {},
   "source": [
    "#### Load Data "
   ]
  },
  {
   "cell_type": "markdown",
   "metadata": {},
   "source": [
    "#### Subjects Conditions "
   ]
  },
  {
   "cell_type": "code",
   "execution_count": null,
   "metadata": {},
   "outputs": [],
   "source": [
    "dict_condition = bp.io.load_subject_condition_list(project_folder + \"/condition_list.csv\")\n",
    "dict_condition"
   ]
  },
  {
   "cell_type": "markdown",
   "metadata": {},
   "source": [
    "#### HR Phase Dict "
   ]
  },
  {
   "cell_type": "markdown",
   "metadata": {},
   "source": [
    "`dict_phase`: Dictionary with Heart Rate data per Stroop Phase\n",
    "* keys = Phase names\n",
    "* values = Heart Rate data (pandas DataFrame)"
   ]
  },
  {
   "cell_type": "code",
   "execution_count": null,
   "metadata": {},
   "outputs": [],
   "source": [
    "# Load Excel file with all sheets\n",
    "dict_phase = pd.read_excel(project_folder + \"/dict_phase_stroop.xlsx\",sheet_name=None,index_col = 0)"
   ]
  },
  {
   "cell_type": "markdown",
   "metadata": {},
   "source": [
    "#### Ensemble Plot "
   ]
  },
  {
   "cell_type": "code",
   "execution_count": null,
   "metadata": {},
   "outputs": [],
   "source": [
    "stroop.hr_ensemble_plot(data=dict_phase,figsize=(10,8),ylims=(40,120))"
   ]
  },
  {
   "cell_type": "code",
   "execution_count": null,
   "metadata": {},
   "outputs": [],
   "source": [
    "#Split 'dict_phase' into groups\n",
    "dict_groups = stroop.split_groups(dict_phase,dict_condition)"
   ]
  },
  {
   "cell_type": "code",
   "execution_count": null,
   "metadata": {},
   "outputs": [],
   "source": [
    "stroop.hr_ensemble_plot(data=dict_groups,figsize=(15,8),ylims=(40,120),is_group_dict=True)"
   ]
  },
  {
   "cell_type": "markdown",
   "metadata": {},
   "source": [
    "#### Mean HR plot "
   ]
  },
  {
   "cell_type": "code",
   "execution_count": null,
   "metadata": {},
   "outputs": [],
   "source": [
    "mean_se = stroop.hr_mean_se(data=dict_phase)"
   ]
  },
  {
   "cell_type": "code",
   "execution_count": null,
   "metadata": {},
   "outputs": [],
   "source": [
    "fig, ax = plt.subplots(figsize=(10, 5))\n",
    "ax.set_ylim(40,120)\n",
    "ax = stroop.hr_mean_plot(data=mean_se, ax=ax)"
   ]
  },
  {
   "cell_type": "code",
   "execution_count": null,
   "metadata": {},
   "outputs": [],
   "source": [
    "mean_se_groups = stroop.hr_mean_se(data=dict_groups, is_group_dict=True)"
   ]
  },
  {
   "cell_type": "code",
   "execution_count": null,
   "metadata": {},
   "outputs": [],
   "source": [
    "fig, ax = plt.subplots(figsize=(10, 5))\n",
    "ax.set_ylim(40,120)\n",
    "ax = stroop.hr_mean_plot(data=mean_se_groups, ax=ax)"
   ]
  },
  {
   "cell_type": "markdown",
   "metadata": {},
   "source": [
    "### Stroop Data from Stroop Test "
   ]
  },
  {
   "cell_type": "code",
   "execution_count": null,
   "metadata": {},
   "outputs": [],
   "source": [
    "#load stroop data from folder into a dictionary\n",
    "folder = project_folder + '/test/'\n",
    "dict_stroop = bp.io.load_stroop_test_data(folder_path=folder, cols=['correct','latency','congruentcorrect','incongruentcorrect'])"
   ]
  },
  {
   "cell_type": "code",
   "execution_count": null,
   "metadata": {},
   "outputs": [],
   "source": [
    "dict_stroop"
   ]
  },
  {
   "cell_type": "code",
   "execution_count": null,
   "metadata": {},
   "outputs": [],
   "source": [
    "#example of condition dict\n",
    "condition_dict = {'IG': ['VP13'], 'KG': ['VP21']}"
   ]
  },
  {
   "cell_type": "code",
   "execution_count": null,
   "metadata": {},
   "outputs": [],
   "source": [
    "#get mean response time and proportional correct answers of each participant\n",
    "df_stroop = stroop.stroop_dict_to_dataframe(dict_stroop=dict_stroop)\n",
    "df_stroop"
   ]
  },
  {
   "cell_type": "code",
   "execution_count": null,
   "metadata": {},
   "outputs": [],
   "source": [
    "#split dict stroop into groups\n",
    "dict_stroop_groups = stroop.split_groups_stroop(dict_stroop, condition_dict)"
   ]
  },
  {
   "cell_type": "code",
   "execution_count": null,
   "metadata": {},
   "outputs": [],
   "source": [
    "#get mean response time and proportional correct answers of each participant per condition\n",
    "df_stroop_groups = stroop.stroop_dict_to_dataframe(dict_stroop=dict_stroop_groups, is_group_dict=True)\n",
    "df_stroop_groups"
   ]
  },
  {
   "cell_type": "code",
   "execution_count": null,
   "metadata": {},
   "outputs": [],
   "source": [
    "stroop_mean = stroop.stroop_mean_se(df_stroop)"
   ]
  },
  {
   "cell_type": "code",
   "execution_count": null,
   "metadata": {},
   "outputs": [],
   "source": [
    "stroop_mean"
   ]
  },
  {
   "cell_type": "code",
   "execution_count": null,
   "metadata": {},
   "outputs": [],
   "source": [
    "fig, ax = plt.subplots(figsize=(10, 5))\n",
    "ax = stroop.stroop_plot(stroop_mean,ax=ax, variable='correct')"
   ]
  },
  {
   "cell_type": "code",
   "execution_count": null,
   "metadata": {},
   "outputs": [],
   "source": [
    "stroop_mean_group = stroop.stroop_mean_se(df_stroop_groups, True)"
   ]
  },
  {
   "cell_type": "code",
   "execution_count": null,
   "metadata": {},
   "outputs": [],
   "source": [
    "stroop_mean_group"
   ]
  },
  {
   "cell_type": "code",
   "execution_count": null,
   "metadata": {},
   "outputs": [],
   "source": [
    "fig, ax = plt.subplots(figsize=(10, 5))\n",
    "ax=stroop.stroop_plot(stroop_mean_group, ax=ax,is_group_dict=True,group_col='group', variable='latency')"
   ]
  },
  {
   "cell_type": "code",
   "execution_count": null,
   "metadata": {},
   "outputs": [],
   "source": []
  }
 ],
 "metadata": {
  "kernelspec": {
   "display_name": "Python 3",
   "language": "python",
   "name": "python3"
  },
  "language_info": {
   "codemirror_mode": {
    "name": "ipython",
    "version": 3
   },
   "file_extension": ".py",
   "mimetype": "text/x-python",
   "name": "python",
   "nbconvert_exporter": "python",
   "pygments_lexer": "ipython3",
   "version": "3.8.5"
  }
 },
 "nbformat": 4,
 "nbformat_minor": 4
}
