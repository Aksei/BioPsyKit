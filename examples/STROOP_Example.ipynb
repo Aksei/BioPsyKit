{
 "cells": [
  {
   "cell_type": "code",
   "execution_count": 1,
   "metadata": {},
   "outputs": [],
   "source": [
    "import csv\n",
    "import pandas as pd\n",
    "from biopsykit.protocols import Stroop\n",
    "import matplotlib.pyplot as plt\n",
    "import numpy as np\n",
    "\n",
    "%load_ext autoreload\n",
    "%autoreload 2"
   ]
  },
  {
   "cell_type": "code",
   "execution_count": 2,
   "metadata": {},
   "outputs": [],
   "source": [
    "stroop = Stroop()"
   ]
  },
  {
   "cell_type": "code",
   "execution_count": 3,
   "metadata": {
    "scrolled": true
   },
   "outputs": [],
   "source": [
    "folder = 'D:/Victoria/09- Studium/Master/DiPsyLab/social evaluated Stroop-Test - inkongruent/data/test/'\n",
    "dict_stroop = stroop.load_stroop_test_data(folder=folder)"
   ]
  },
  {
   "cell_type": "code",
   "execution_count": 4,
   "metadata": {},
   "outputs": [
    {
     "data": {
      "application/vnd.jupyter.widget-view+json": {
       "model_id": "0a3f2361e1d04205a1685d38198af299",
       "version_major": 2,
       "version_minor": 0
      },
      "text/plain": [
       "Subjects:   0%|          | 0/2 [00:00<?, ?it/s]"
      ]
     },
     "metadata": {},
     "output_type": "display_data"
    },
    {
     "name": "stderr",
     "output_type": "stream",
     "text": [
      "c:\\users\\vmueller\\biopsykit\\biopsykit\\protocols\\stroop.py:214: SettingWithCopyWarning: \n",
      "A value is trying to be set on a copy of a slice from a DataFrame.\n",
      "Try using .loc[row_indexer,col_indexer] = value instead\n",
      "\n",
      "See the caveats in the documentation: https://pandas.pydata.org/pandas-docs/stable/user_guide/indexing.html#returning-a-view-versus-a-copy\n",
      "  df_tmp['subject'] = subject_id\n"
     ]
    },
    {
     "data": {
      "text/html": [
       "<div>\n",
       "<style scoped>\n",
       "    .dataframe tbody tr th:only-of-type {\n",
       "        vertical-align: middle;\n",
       "    }\n",
       "\n",
       "    .dataframe tbody tr th {\n",
       "        vertical-align: top;\n",
       "    }\n",
       "\n",
       "    .dataframe thead th {\n",
       "        text-align: right;\n",
       "    }\n",
       "</style>\n",
       "<table border=\"1\" class=\"dataframe\">\n",
       "  <thead>\n",
       "    <tr style=\"text-align: right;\">\n",
       "      <th></th>\n",
       "      <th></th>\n",
       "      <th>propcorrect</th>\n",
       "      <th>meanRT</th>\n",
       "    </tr>\n",
       "    <tr>\n",
       "      <th>subject</th>\n",
       "      <th>phase</th>\n",
       "      <th></th>\n",
       "      <th></th>\n",
       "    </tr>\n",
       "  </thead>\n",
       "  <tbody>\n",
       "    <tr>\n",
       "      <th rowspan=\"3\" valign=\"top\">VP13</th>\n",
       "      <th>Stroop1</th>\n",
       "      <td>0.871795</td>\n",
       "      <td>1036.058824</td>\n",
       "    </tr>\n",
       "    <tr>\n",
       "      <th>Stroop2</th>\n",
       "      <td>1.000000</td>\n",
       "      <td>794.948718</td>\n",
       "    </tr>\n",
       "    <tr>\n",
       "      <th>Stroop3</th>\n",
       "      <td>0.948718</td>\n",
       "      <td>630.675676</td>\n",
       "    </tr>\n",
       "    <tr>\n",
       "      <th rowspan=\"3\" valign=\"top\">VP21</th>\n",
       "      <th>Stroop1</th>\n",
       "      <td>0.897436</td>\n",
       "      <td>525.342857</td>\n",
       "    </tr>\n",
       "    <tr>\n",
       "      <th>Stroop2</th>\n",
       "      <td>0.820513</td>\n",
       "      <td>513.312500</td>\n",
       "    </tr>\n",
       "    <tr>\n",
       "      <th>Stroop3</th>\n",
       "      <td>0.794872</td>\n",
       "      <td>490.741935</td>\n",
       "    </tr>\n",
       "  </tbody>\n",
       "</table>\n",
       "</div>"
      ],
      "text/plain": [
       "                 propcorrect       meanRT\n",
       "subject phase                            \n",
       "VP13    Stroop1     0.871795  1036.058824\n",
       "        Stroop2     1.000000   794.948718\n",
       "        Stroop3     0.948718   630.675676\n",
       "VP21    Stroop1     0.897436   525.342857\n",
       "        Stroop2     0.820513   513.312500\n",
       "        Stroop3     0.794872   490.741935"
      ]
     },
     "execution_count": 4,
     "metadata": {},
     "output_type": "execute_result"
    }
   ],
   "source": [
    "df_stroop = stroop.get_stroop_dataframe(data=dict_stroop)\n",
    "df_stroop"
   ]
  },
  {
   "cell_type": "code",
   "execution_count": 5,
   "metadata": {},
   "outputs": [
    {
     "data": {
      "text/html": [
       "<div>\n",
       "<style scoped>\n",
       "    .dataframe tbody tr th:only-of-type {\n",
       "        vertical-align: middle;\n",
       "    }\n",
       "\n",
       "    .dataframe tbody tr th {\n",
       "        vertical-align: top;\n",
       "    }\n",
       "\n",
       "    .dataframe thead th {\n",
       "        text-align: right;\n",
       "    }\n",
       "</style>\n",
       "<table border=\"1\" class=\"dataframe\">\n",
       "  <thead>\n",
       "    <tr style=\"text-align: right;\">\n",
       "      <th></th>\n",
       "      <th>phase</th>\n",
       "      <th>propcorrect_mean</th>\n",
       "      <th>meanRT_mean</th>\n",
       "      <th>propcorrect_std</th>\n",
       "      <th>meanRT_std</th>\n",
       "    </tr>\n",
       "  </thead>\n",
       "  <tbody>\n",
       "    <tr>\n",
       "      <th>0</th>\n",
       "      <td>Stroop1</td>\n",
       "      <td>88.461538</td>\n",
       "      <td>780.700840</td>\n",
       "      <td>1.813094</td>\n",
       "      <td>361.130723</td>\n",
       "    </tr>\n",
       "    <tr>\n",
       "      <th>1</th>\n",
       "      <td>Stroop2</td>\n",
       "      <td>91.025641</td>\n",
       "      <td>654.130609</td>\n",
       "      <td>12.691660</td>\n",
       "      <td>199.146880</td>\n",
       "    </tr>\n",
       "    <tr>\n",
       "      <th>2</th>\n",
       "      <td>Stroop3</td>\n",
       "      <td>87.179487</td>\n",
       "      <td>560.708806</td>\n",
       "      <td>10.878566</td>\n",
       "      <td>98.948097</td>\n",
       "    </tr>\n",
       "  </tbody>\n",
       "</table>\n",
       "</div>"
      ],
      "text/plain": [
       "     phase propcorrect_mean meanRT_mean propcorrect_std  meanRT_std\n",
       "0  Stroop1        88.461538  780.700840        1.813094  361.130723\n",
       "1  Stroop2        91.025641  654.130609       12.691660  199.146880\n",
       "2  Stroop3        87.179487  560.708806       10.878566   98.948097"
      ]
     },
     "execution_count": 5,
     "metadata": {},
     "output_type": "execute_result"
    },
    {
     "data": {
      "image/png": "[encoded data removed]",
      "text/plain": [
       "<Figure size 576x360 with 2 Axes>"
      ]
     },
     "metadata": {},
     "output_type": "display_data"
    }
   ],
   "source": [
    "df_stroop_mean = stroop.plot_stroop_mean(data=df_stroop)\n",
    "df_stroop_mean"
   ]
  },
  {
   "cell_type": "code",
   "execution_count": 7,
   "metadata": {
    "scrolled": false
   },
   "outputs": [
    {
     "data": {
      "application/vnd.jupyter.widget-view+json": {
       "model_id": "5539777f596f4b3eac02399c1018a10b",
       "version_major": 2,
       "version_minor": 0
      },
      "text/plain": [
       "Subjects:   0%|          | 0/2 [00:00<?, ?it/s]"
      ]
     },
     "metadata": {},
     "output_type": "display_data"
    },
    {
     "name": "stderr",
     "output_type": "stream",
     "text": [
      "c:\\users\\vmueller\\biopsykit\\biopsykit\\protocols\\stroop.py:213: SettingWithCopyWarning: \n",
      "A value is trying to be set on a copy of a slice from a DataFrame.\n",
      "Try using .loc[row_indexer,col_indexer] = value instead\n",
      "\n",
      "See the caveats in the documentation: https://pandas.pydata.org/pandas-docs/stable/user_guide/indexing.html#returning-a-view-versus-a-copy\n",
      "  df_tmp['subject'] = subject_id\n"
     ]
    }
   ],
   "source": [
    "df_stroop_mean = stroop.plot_stroop_mean(data=dict_stroop)"
   ]
  },
  {
   "cell_type": "code",
   "execution_count": 8,
   "metadata": {},
   "outputs": [
    {
     "data": {
      "text/html": [
       "<div>\n",
       "<style scoped>\n",
       "    .dataframe tbody tr th:only-of-type {\n",
       "        vertical-align: middle;\n",
       "    }\n",
       "\n",
       "    .dataframe tbody tr th {\n",
       "        vertical-align: top;\n",
       "    }\n",
       "\n",
       "    .dataframe thead th {\n",
       "        text-align: right;\n",
       "    }\n",
       "</style>\n",
       "<table border=\"1\" class=\"dataframe\">\n",
       "  <thead>\n",
       "    <tr style=\"text-align: right;\">\n",
       "      <th></th>\n",
       "      <th>phase</th>\n",
       "      <th>propcorrect_mean</th>\n",
       "      <th>meanRT_mean</th>\n",
       "      <th>propcorrect_std</th>\n",
       "      <th>meanRT_std</th>\n",
       "    </tr>\n",
       "  </thead>\n",
       "  <tbody>\n",
       "    <tr>\n",
       "      <th>0</th>\n",
       "      <td>Stroop1</td>\n",
       "      <td>88.461538</td>\n",
       "      <td>780.700840</td>\n",
       "      <td>1.813094</td>\n",
       "      <td>361.130723</td>\n",
       "    </tr>\n",
       "    <tr>\n",
       "      <th>1</th>\n",
       "      <td>Stroop2</td>\n",
       "      <td>91.025641</td>\n",
       "      <td>654.130609</td>\n",
       "      <td>12.691660</td>\n",
       "      <td>199.146880</td>\n",
       "    </tr>\n",
       "    <tr>\n",
       "      <th>2</th>\n",
       "      <td>Stroop3</td>\n",
       "      <td>87.179487</td>\n",
       "      <td>560.708806</td>\n",
       "      <td>10.878566</td>\n",
       "      <td>98.948097</td>\n",
       "    </tr>\n",
       "  </tbody>\n",
       "</table>\n",
       "</div>"
      ],
      "text/plain": [
       "     phase propcorrect_mean meanRT_mean propcorrect_std  meanRT_std\n",
       "0  Stroop1        88.461538  780.700840        1.813094  361.130723\n",
       "1  Stroop2        91.025641  654.130609       12.691660  199.146880\n",
       "2  Stroop3        87.179487  560.708806       10.878566   98.948097"
      ]
     },
     "execution_count": 8,
     "metadata": {},
     "output_type": "execute_result"
    }
   ],
   "source": [
    "df_stroop_mean"
   ]
  },
  {
   "cell_type": "code",
   "execution_count": null,
   "metadata": {},
   "outputs": [],
   "source": []
  }
 ],
 "metadata": {
  "kernelspec": {
   "display_name": "Python 3",
   "language": "python",
   "name": "python3"
  },
  "language_info": {
   "codemirror_mode": {
    "name": "ipython",
    "version": 3
   },
   "file_extension": ".py",
   "mimetype": "text/x-python",
   "name": "python",
   "nbconvert_exporter": "python",
   "pygments_lexer": "ipython3",
   "version": "3.8.5"
  }
 },
 "nbformat": 4,
 "nbformat_minor": 2
}
